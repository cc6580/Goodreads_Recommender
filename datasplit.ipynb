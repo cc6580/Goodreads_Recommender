{
 "cells": [
  {
   "cell_type": "code",
   "execution_count": 181,
   "metadata": {},
   "outputs": [],
   "source": [
    "import pandas as pd\n",
    "import numpy as np\n",
    "from sklearn.model_selection import train_test_split\n",
    "import random"
   ]
  },
  {
   "cell_type": "code",
   "execution_count": 45,
   "metadata": {},
   "outputs": [
    {
     "name": "stdout",
     "output_type": "stream",
     "text": [
      "data split.ipynb    final lab notes.rtf int_1per.csv        inter_1pc.csv\r\n"
     ]
    }
   ],
   "source": [
    "!ls"
   ]
  },
  {
   "cell_type": "code",
   "execution_count": 46,
   "metadata": {},
   "outputs": [],
   "source": [
    "data=pd.read_csv('inter_1pc.csv')"
   ]
  },
  {
   "cell_type": "code",
   "execution_count": 174,
   "metadata": {},
   "outputs": [
    {
     "data": {
      "text/html": [
       "<div>\n",
       "<style scoped>\n",
       "    .dataframe tbody tr th:only-of-type {\n",
       "        vertical-align: middle;\n",
       "    }\n",
       "\n",
       "    .dataframe tbody tr th {\n",
       "        vertical-align: top;\n",
       "    }\n",
       "\n",
       "    .dataframe thead th {\n",
       "        text-align: right;\n",
       "    }\n",
       "</style>\n",
       "<table border=\"1\" class=\"dataframe\">\n",
       "  <thead>\n",
       "    <tr style=\"text-align: right;\">\n",
       "      <th></th>\n",
       "      <th>user_id</th>\n",
       "      <th>book_id</th>\n",
       "      <th>is_read</th>\n",
       "      <th>rating</th>\n",
       "      <th>is_reviewed</th>\n",
       "    </tr>\n",
       "  </thead>\n",
       "  <tbody>\n",
       "    <tr>\n",
       "      <td>0</td>\n",
       "      <td>431147</td>\n",
       "      <td>414799</td>\n",
       "      <td>1</td>\n",
       "      <td>5</td>\n",
       "      <td>0</td>\n",
       "    </tr>\n",
       "    <tr>\n",
       "      <td>1</td>\n",
       "      <td>431147</td>\n",
       "      <td>147207</td>\n",
       "      <td>1</td>\n",
       "      <td>3</td>\n",
       "      <td>0</td>\n",
       "    </tr>\n",
       "    <tr>\n",
       "      <td>2</td>\n",
       "      <td>431147</td>\n",
       "      <td>943</td>\n",
       "      <td>1</td>\n",
       "      <td>5</td>\n",
       "      <td>0</td>\n",
       "    </tr>\n",
       "    <tr>\n",
       "      <td>3</td>\n",
       "      <td>431147</td>\n",
       "      <td>613</td>\n",
       "      <td>1</td>\n",
       "      <td>5</td>\n",
       "      <td>0</td>\n",
       "    </tr>\n",
       "    <tr>\n",
       "      <td>4</td>\n",
       "      <td>431147</td>\n",
       "      <td>944</td>\n",
       "      <td>1</td>\n",
       "      <td>5</td>\n",
       "      <td>0</td>\n",
       "    </tr>\n",
       "    <tr>\n",
       "      <td>...</td>\n",
       "      <td>...</td>\n",
       "      <td>...</td>\n",
       "      <td>...</td>\n",
       "      <td>...</td>\n",
       "      <td>...</td>\n",
       "    </tr>\n",
       "    <tr>\n",
       "      <td>2436190</td>\n",
       "      <td>29544</td>\n",
       "      <td>227034</td>\n",
       "      <td>0</td>\n",
       "      <td>0</td>\n",
       "      <td>0</td>\n",
       "    </tr>\n",
       "    <tr>\n",
       "      <td>2436191</td>\n",
       "      <td>29544</td>\n",
       "      <td>1181994</td>\n",
       "      <td>0</td>\n",
       "      <td>0</td>\n",
       "      <td>0</td>\n",
       "    </tr>\n",
       "    <tr>\n",
       "      <td>2436192</td>\n",
       "      <td>29544</td>\n",
       "      <td>522467</td>\n",
       "      <td>0</td>\n",
       "      <td>0</td>\n",
       "      <td>0</td>\n",
       "    </tr>\n",
       "    <tr>\n",
       "      <td>2436193</td>\n",
       "      <td>29544</td>\n",
       "      <td>210066</td>\n",
       "      <td>0</td>\n",
       "      <td>0</td>\n",
       "      <td>0</td>\n",
       "    </tr>\n",
       "    <tr>\n",
       "      <td>2436194</td>\n",
       "      <td>29544</td>\n",
       "      <td>309255</td>\n",
       "      <td>0</td>\n",
       "      <td>0</td>\n",
       "      <td>0</td>\n",
       "    </tr>\n",
       "  </tbody>\n",
       "</table>\n",
       "<p>2432070 rows × 5 columns</p>\n",
       "</div>"
      ],
      "text/plain": [
       "         user_id  book_id  is_read  rating  is_reviewed\n",
       "0         431147   414799        1       5            0\n",
       "1         431147   147207        1       3            0\n",
       "2         431147      943        1       5            0\n",
       "3         431147      613        1       5            0\n",
       "4         431147      944        1       5            0\n",
       "...          ...      ...      ...     ...          ...\n",
       "2436190    29544   227034        0       0            0\n",
       "2436191    29544  1181994        0       0            0\n",
       "2436192    29544   522467        0       0            0\n",
       "2436193    29544   210066        0       0            0\n",
       "2436194    29544   309255        0       0            0\n",
       "\n",
       "[2432070 rows x 5 columns]"
      ]
     },
     "execution_count": 174,
     "metadata": {},
     "output_type": "execute_result"
    }
   ],
   "source": [
    "data"
   ]
  },
  {
   "cell_type": "code",
   "execution_count": 188,
   "metadata": {},
   "outputs": [
    {
     "data": {
      "text/html": [
       "<div>\n",
       "<style scoped>\n",
       "    .dataframe tbody tr th:only-of-type {\n",
       "        vertical-align: middle;\n",
       "    }\n",
       "\n",
       "    .dataframe tbody tr th {\n",
       "        vertical-align: top;\n",
       "    }\n",
       "\n",
       "    .dataframe thead th {\n",
       "        text-align: right;\n",
       "    }\n",
       "</style>\n",
       "<table border=\"1\" class=\"dataframe\">\n",
       "  <thead>\n",
       "    <tr style=\"text-align: right;\">\n",
       "      <th></th>\n",
       "      <th>user_id</th>\n",
       "      <th>book_id</th>\n",
       "      <th>is_read</th>\n",
       "      <th>rating</th>\n",
       "      <th>is_reviewed</th>\n",
       "    </tr>\n",
       "  </thead>\n",
       "  <tbody>\n",
       "    <tr>\n",
       "      <td>264</td>\n",
       "      <td>431161</td>\n",
       "      <td>1068318</td>\n",
       "      <td>1</td>\n",
       "      <td>0</td>\n",
       "      <td>1</td>\n",
       "    </tr>\n",
       "    <tr>\n",
       "      <td>268</td>\n",
       "      <td>431161</td>\n",
       "      <td>74005</td>\n",
       "      <td>1</td>\n",
       "      <td>0</td>\n",
       "      <td>0</td>\n",
       "    </tr>\n",
       "    <tr>\n",
       "      <td>269</td>\n",
       "      <td>431161</td>\n",
       "      <td>261605</td>\n",
       "      <td>1</td>\n",
       "      <td>0</td>\n",
       "      <td>0</td>\n",
       "    </tr>\n",
       "    <tr>\n",
       "      <td>283</td>\n",
       "      <td>431161</td>\n",
       "      <td>160933</td>\n",
       "      <td>1</td>\n",
       "      <td>0</td>\n",
       "      <td>1</td>\n",
       "    </tr>\n",
       "    <tr>\n",
       "      <td>290</td>\n",
       "      <td>431161</td>\n",
       "      <td>113803</td>\n",
       "      <td>1</td>\n",
       "      <td>0</td>\n",
       "      <td>0</td>\n",
       "    </tr>\n",
       "    <tr>\n",
       "      <td>...</td>\n",
       "      <td>...</td>\n",
       "      <td>...</td>\n",
       "      <td>...</td>\n",
       "      <td>...</td>\n",
       "      <td>...</td>\n",
       "    </tr>\n",
       "    <tr>\n",
       "      <td>2436093</td>\n",
       "      <td>29544</td>\n",
       "      <td>21277</td>\n",
       "      <td>1</td>\n",
       "      <td>0</td>\n",
       "      <td>0</td>\n",
       "    </tr>\n",
       "    <tr>\n",
       "      <td>2436105</td>\n",
       "      <td>29544</td>\n",
       "      <td>391542</td>\n",
       "      <td>1</td>\n",
       "      <td>0</td>\n",
       "      <td>0</td>\n",
       "    </tr>\n",
       "    <tr>\n",
       "      <td>2436113</td>\n",
       "      <td>29544</td>\n",
       "      <td>19739</td>\n",
       "      <td>1</td>\n",
       "      <td>0</td>\n",
       "      <td>0</td>\n",
       "    </tr>\n",
       "    <tr>\n",
       "      <td>2436159</td>\n",
       "      <td>29544</td>\n",
       "      <td>270395</td>\n",
       "      <td>1</td>\n",
       "      <td>0</td>\n",
       "      <td>0</td>\n",
       "    </tr>\n",
       "    <tr>\n",
       "      <td>2436187</td>\n",
       "      <td>29544</td>\n",
       "      <td>102703</td>\n",
       "      <td>1</td>\n",
       "      <td>0</td>\n",
       "      <td>0</td>\n",
       "    </tr>\n",
       "  </tbody>\n",
       "</table>\n",
       "<p>80934 rows × 5 columns</p>\n",
       "</div>"
      ],
      "text/plain": [
       "         user_id  book_id  is_read  rating  is_reviewed\n",
       "264       431161  1068318        1       0            1\n",
       "268       431161    74005        1       0            0\n",
       "269       431161   261605        1       0            0\n",
       "283       431161   160933        1       0            1\n",
       "290       431161   113803        1       0            0\n",
       "...          ...      ...      ...     ...          ...\n",
       "2436093    29544    21277        1       0            0\n",
       "2436105    29544   391542        1       0            0\n",
       "2436113    29544    19739        1       0            0\n",
       "2436159    29544   270395        1       0            0\n",
       "2436187    29544   102703        1       0            0\n",
       "\n",
       "[80934 rows x 5 columns]"
      ]
     },
     "execution_count": 188,
     "metadata": {},
     "output_type": "execute_result"
    }
   ],
   "source": [
    "# note that there are some interactions where people read the book but did not give a rating\n",
    "# although most of the time, if the rating is 0, its more likely because people did not read the book\n",
    "data[data['rating'] == 0][(data[data['rating'] == 0]['is_read']!= 0)]"
   ]
  },
  {
   "cell_type": "code",
   "execution_count": 173,
   "metadata": {},
   "outputs": [
    {
     "data": {
      "text/plain": [
       "user_id\n",
       "106       384\n",
       "364       844\n",
       "442       211\n",
       "532       261\n",
       "563       500\n",
       "         ... \n",
       "875806     18\n",
       "875859     57\n",
       "875939     28\n",
       "876021     27\n",
       "876025     46\n",
       "Name: is_read, Length: 7838, dtype: int64"
      ]
     },
     "execution_count": 173,
     "metadata": {},
     "output_type": "execute_result"
    }
   ],
   "source": [
    "# a panda series containing only users who have read more than 10 books\n",
    "more_10 = data.groupby('user_id').count()['is_read'][data.groupby('user_id').count()['is_read'] >= 10]\n",
    "more_10"
   ]
  },
  {
   "cell_type": "code",
   "execution_count": 151,
   "metadata": {},
   "outputs": [
    {
     "data": {
      "text/plain": [
       "[106, 364, 442, 532, 563]"
      ]
     },
     "execution_count": 151,
     "metadata": {},
     "output_type": "execute_result"
    }
   ],
   "source": [
    "list(more_10.index)[:5]"
   ]
  },
  {
   "cell_type": "code",
   "execution_count": 155,
   "metadata": {},
   "outputs": [],
   "source": [
    "# only keep those users in our data\n",
    "data = data[data['user_id'].isin(list(more_10.index))]"
   ]
  },
  {
   "cell_type": "code",
   "execution_count": 157,
   "metadata": {},
   "outputs": [
    {
     "data": {
      "text/plain": [
       "7838"
      ]
     },
     "execution_count": 157,
     "metadata": {},
     "output_type": "execute_result"
    }
   ],
   "source": [
    "# this is a list of all unique user_id's present in the dataframe, should be the same as the length of more_10\n",
    "users = data['user_id'].unique().tolist()\n",
    "len(users) "
   ]
  },
  {
   "cell_type": "code",
   "execution_count": 158,
   "metadata": {},
   "outputs": [
    {
     "name": "stdout",
     "output_type": "stream",
     "text": [
      "None\n"
     ]
    }
   ],
   "source": [
    "lst = random.shuffle([1,2,3,4])\n",
    "print(lst)"
   ]
  },
  {
   "cell_type": "code",
   "execution_count": 159,
   "metadata": {},
   "outputs": [
    {
     "data": {
      "text/plain": [
       "[4, 1, 2, 3]"
      ]
     },
     "execution_count": 159,
     "metadata": {},
     "output_type": "execute_result"
    }
   ],
   "source": [
    "lst = [1,2,3,4]\n",
    "random.shuffle(lst)\n",
    "lst"
   ]
  },
  {
   "cell_type": "code",
   "execution_count": 160,
   "metadata": {},
   "outputs": [],
   "source": [
    "random.shuffle(users) # randomly shuffle the user id's\n",
    "# then, all the sequential partition will be random\n",
    "\n",
    "train_users = users[0:int(len(users) * 0.6)] # a list of user_id's for train set\n",
    "val_users = users[int(len(users) * 0.6) : int(len(users) * 0.8)]# a list of user_id's for validation set\n",
    "test_users = users[int(len(users) * 0.8) : ]# a list of user_id's for validation set"
   ]
  },
  {
   "cell_type": "code",
   "execution_count": 161,
   "metadata": {},
   "outputs": [
    {
     "data": {
      "text/plain": [
       "0           True\n",
       "1           True\n",
       "2           True\n",
       "3           True\n",
       "4           True\n",
       "           ...  \n",
       "2436190    False\n",
       "2436191    False\n",
       "2436192    False\n",
       "2436193    False\n",
       "2436194    False\n",
       "Name: user_id, Length: 2432070, dtype: bool"
      ]
     },
     "execution_count": 161,
     "metadata": {},
     "output_type": "execute_result"
    }
   ],
   "source": [
    "# boolean indexing for membership test\n",
    "data['user_id'].isin([431147,1])"
   ]
  },
  {
   "cell_type": "code",
   "execution_count": 162,
   "metadata": {},
   "outputs": [],
   "source": [
    "train = data[data['user_id'].isin(train_users)]\n",
    "val = data[data['user_id'].isin(val_users)]\n",
    "test = data[data['user_id'].isin(test_users)]"
   ]
  },
  {
   "cell_type": "code",
   "execution_count": 163,
   "metadata": {},
   "outputs": [],
   "source": [
    "final_train = train"
   ]
  },
  {
   "cell_type": "code",
   "execution_count": 164,
   "metadata": {},
   "outputs": [],
   "source": [
    "# for each USER in the validation set, move 50% of its interactions back into train, only leaving the other half\n",
    "final_val = pd.DataFrame()\n",
    "\n",
    "for user in val_users:\n",
    "    user_df = val[val['user_id'] == user]\n",
    "    user_train, user_val = train_test_split(user_df, train_size=0.5)\n",
    "    final_train = final_train.append(user_train)\n",
    "    final_val = final_val.append(user_val)"
   ]
  },
  {
   "cell_type": "code",
   "execution_count": 165,
   "metadata": {},
   "outputs": [],
   "source": [
    "# for each USER in the test set, move 50% of its interactions back into train, only leaving the other half\n",
    "final_test = pd.DataFrame()\n",
    "\n",
    "for user in test_users:\n",
    "    user_df = test[test['user_id'] == user]\n",
    "    user_train, user_test = train_test_split(user_df, test_size=0.5)\n",
    "    final_train = final_train.append(user_train)\n",
    "    final_test = final_test.append(user_test)"
   ]
  },
  {
   "cell_type": "code",
   "execution_count": 166,
   "metadata": {},
   "outputs": [
    {
     "data": {
      "text/plain": [
       "1568"
      ]
     },
     "execution_count": 166,
     "metadata": {},
     "output_type": "execute_result"
    }
   ],
   "source": [
    "len(final_val['user_id'].unique()) # only has 20% of users"
   ]
  },
  {
   "cell_type": "code",
   "execution_count": 167,
   "metadata": {},
   "outputs": [
    {
     "data": {
      "text/plain": [
       "1568"
      ]
     },
     "execution_count": 167,
     "metadata": {},
     "output_type": "execute_result"
    }
   ],
   "source": [
    "len(final_test['user_id'].unique()) # only has 20% of users"
   ]
  },
  {
   "cell_type": "code",
   "execution_count": 168,
   "metadata": {},
   "outputs": [
    {
     "data": {
      "text/plain": [
       "7838"
      ]
     },
     "execution_count": 168,
     "metadata": {},
     "output_type": "execute_result"
    }
   ],
   "source": [
    "len(final_train['user_id'].unique()) # has every user"
   ]
  },
  {
   "cell_type": "code",
   "execution_count": 169,
   "metadata": {},
   "outputs": [],
   "source": [
    "# save df to csv file for easier later access \n",
    "\n",
    "final_val.to_csv('final_val.csv')\n",
    "final_test.to_csv('final_test.csv')\n",
    "final_train.to_csv('final_train.csv')"
   ]
  },
  {
   "cell_type": "code",
   "execution_count": 170,
   "metadata": {},
   "outputs": [
    {
     "name": "stdout",
     "output_type": "stream",
     "text": [
      "data split.ipynb    final_test.csv      final_val.csv       inter_1pc.csv\r\n",
      "final lab notes.rtf final_train.csv     int_1per.csv\r\n"
     ]
    }
   ],
   "source": [
    "!ls"
   ]
  },
  {
   "cell_type": "code",
   "execution_count": null,
   "metadata": {},
   "outputs": [],
   "source": []
  }
 ],
 "metadata": {
  "kernelspec": {
   "display_name": "Python 3",
   "language": "python",
   "name": "python3"
  },
  "language_info": {
   "codemirror_mode": {
    "name": "ipython",
    "version": 3
   },
   "file_extension": ".py",
   "mimetype": "text/x-python",
   "name": "python",
   "nbconvert_exporter": "python",
   "pygments_lexer": "ipython3",
   "version": "3.7.4"
  }
 },
 "nbformat": 4,
 "nbformat_minor": 2
}
