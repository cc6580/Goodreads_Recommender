{
 "cells": [
  {
   "cell_type": "code",
   "execution_count": null,
   "metadata": {
    "scrolled": true
   },
   "outputs": [],
   "source": [
    "!conda install pyspark"
   ]
  },
  {
   "cell_type": "raw",
   "metadata": {},
   "source": [
    "Collecting package metadata (current_repodata.json): done\n",
    "Solving environment: done\n",
    "\n",
    "## Package Plan ##\n",
    "\n",
    "  environment location: /Users/w849277/opt/anaconda3\n",
    "\n",
    "  added / updated specs:\n",
    "    - pyspark\n",
    "\n",
    "\n",
    "The following packages will be downloaded:\n",
    "\n",
    "    package                    |            build\n",
    "    ---------------------------|-----------------\n",
    "    certifi-2020.4.5.1         |           py37_0         155 KB\n",
    "    openssl-1.1.1g             |       h1de35cc_0         2.2 MB\n",
    "    ------------------------------------------------------------\n",
    "                                           Total:         2.4 MB\n",
    "\n",
    "The following NEW packages will be INSTALLED:\n",
    "\n",
    "  py4j               pkgs/main/osx-64::py4j-0.10.7-py37_0\n",
    "  pyspark            pkgs/main/noarch::pyspark-2.4.5-py_0\n",
    "\n",
    "The following packages will be SUPERSEDED by a higher-priority channel:\n",
    "\n",
    "  ca-certificates    conda-forge::ca-certificates-2020.4.5~ --> pkgs/main::ca-certificates-2020.1.1-0\n",
    "  certifi            conda-forge::certifi-2020.4.5.1-py37h~ --> pkgs/main::certifi-2020.4.5.1-py37_0\n",
    "  conda              conda-forge::conda-4.8.3-py37hc8dfbb8~ --> pkgs/main::conda-4.8.3-py37_0\n",
    "  openssl            conda-forge::openssl-1.1.1g-h0b31af3_0 --> pkgs/main::openssl-1.1.1g-h1de35cc_0\n",
    "\n",
    "\n",
    "Proceed ([y]/n)? y\n",
    "\n",
    "\n",
    "Downloading and Extracting Packages\n",
    "certifi-2020.4.5.1   | 155 KB    | ##################################### | 100% \n",
    "openssl-1.1.1g       | 2.2 MB    | ##################################### | 100% \n",
    "Preparing transaction: done\n",
    "Verifying transaction: done\n",
    "Executing transaction: done"
   ]
  },
  {
   "cell_type": "code",
   "execution_count": 96,
   "metadata": {
    "scrolled": true
   },
   "outputs": [],
   "source": [
    "import os\n",
    "import time\n",
    "import sys\n",
    "\n",
    "# spark imports\n",
    "from pyspark.sql import SparkSession\n",
    "import pyspark.sql.functions as F\n",
    "from pyspark.sql.functions import avg, first\n",
    "from pyspark.sql.types import StringType, ArrayType\n",
    "\n",
    "# data science imports\n",
    "import math\n",
    "import numpy as np\n",
    "import pandas as pd\n",
    "\n",
    "# visualization imports\n",
    "import seaborn as sns\n",
    "import matplotlib.pyplot as plt\n",
    "\n",
    "%matplotlib inline"
   ]
  },
  {
   "cell_type": "code",
   "execution_count": 73,
   "metadata": {
    "scrolled": true
   },
   "outputs": [],
   "source": [
    "# spark config\n",
    "spark = SparkSession \\\n",
    "    .builder \\\n",
    "    .appName(\"book recommendation\") \\\n",
    "    .config(\"spark.driver.maxResultSize\", \"96g\") \\\n",
    "    .config(\"spark.driver.memory\", \"96g\") \\\n",
    "    .config(\"spark.executor.memory\", \"8g\") \\\n",
    "    .config(\"spark.master\", \"local[12]\") \\\n",
    "    .getOrCreate()\n",
    "# get spark context\n",
    "sc = spark.sparkContext"
   ]
  },
  {
   "cell_type": "code",
   "execution_count": 18,
   "metadata": {
    "scrolled": true
   },
   "outputs": [
    {
     "data": {
      "text/plain": [
       "'2.4.5'"
      ]
     },
     "execution_count": 18,
     "metadata": {},
     "output_type": "execute_result"
    }
   ],
   "source": [
    "sc.version"
   ]
  },
  {
   "cell_type": "code",
   "execution_count": 21,
   "metadata": {
    "scrolled": true
   },
   "outputs": [
    {
     "data": {
      "text/plain": [
       "'2.4.5'"
      ]
     },
     "execution_count": 21,
     "metadata": {},
     "output_type": "execute_result"
    }
   ],
   "source": [
    "sc._jsc.version()"
   ]
  },
  {
   "cell_type": "code",
   "execution_count": 23,
   "metadata": {
    "scrolled": true
   },
   "outputs": [
    {
     "data": {
      "text/plain": [
       "environ{'TERM_PROGRAM': 'Apple_Terminal',\n",
       "        'SHELL': '/bin/bash',\n",
       "        'TERM': 'xterm-color',\n",
       "        'TMPDIR': '/var/folders/zr/bb5mnfz55m37lqds90_33x3h0000gn/T/',\n",
       "        'CONDA_SHLVL': '1',\n",
       "        'CONDA_PROMPT_MODIFIER': '(base) ',\n",
       "        'TERM_PROGRAM_VERSION': '433',\n",
       "        'TERM_SESSION_ID': 'CA212BDA-FABE-4FD2-9C80-818088C25651',\n",
       "        'USER': 'w849277',\n",
       "        'CONDA_EXE': '/Users/w849277/opt/anaconda3/bin/conda',\n",
       "        'SSH_AUTH_SOCK': '/private/tmp/com.apple.launchd.ec8rRnuuys/Listeners',\n",
       "        '_CE_CONDA': '',\n",
       "        'PATH': '/Users/w849277/opt/anaconda3/bin:/Users/w849277/opt/anaconda3/condabin:/anaconda3/bin:/Library/Frameworks/Python.framework/Versions/3.7/bin:/usr/local/bin:/usr/bin:/bin:/usr/sbin:/sbin:/Users/w849277/.local/bin:/Library/TeX/texbin',\n",
       "        'CONDA_PREFIX': '/Users/w849277/opt/anaconda3',\n",
       "        'PWD': '/Users/w849277',\n",
       "        'LANG': 'en_US.UTF-8',\n",
       "        'XPC_FLAGS': '0x0',\n",
       "        '_CE_M': '',\n",
       "        'XPC_SERVICE_NAME': '0',\n",
       "        'SHLVL': '1',\n",
       "        'HOME': '/Users/w849277',\n",
       "        'CONDA_PYTHON_EXE': '/Users/w849277/opt/anaconda3/bin/python',\n",
       "        'LOGNAME': 'w849277',\n",
       "        'CONDA_DEFAULT_ENV': 'base',\n",
       "        '_': '/Users/w849277/opt/anaconda3/bin/jupyter',\n",
       "        'KERNEL_LAUNCH_TIMEOUT': '40',\n",
       "        'JPY_PARENT_PID': '52018',\n",
       "        'CLICOLOR': '1',\n",
       "        'PAGER': 'cat',\n",
       "        'GIT_PAGER': 'cat',\n",
       "        'MPLBACKEND': 'module://ipykernel.pylab.backend_inline'}"
      ]
     },
     "execution_count": 23,
     "metadata": {},
     "output_type": "execute_result"
    }
   ],
   "source": [
    "os.environ"
   ]
  },
  {
   "cell_type": "code",
   "execution_count": 16,
   "metadata": {
    "scrolled": true
   },
   "outputs": [],
   "source": [
    "spark_path = r\"spark-2.3.2-bin-hadoop2.7\" # spark installed folder\n",
    "os.environ['SPARK_HOME'] = spark_path\n",
    "sys.path.insert(0, spark_path + \"/bin\")\n",
    "sys.path.insert(0, spark_path + \"/python/pyspark/\")\n",
    "sys.path.insert(0, spark_path + \"/python/lib/pyspark.zip\")\n",
    "sys.path.insert(0, spark_path + \"/python/lib/py4j-0.10.7-src.zip\")"
   ]
  },
  {
   "cell_type": "markdown",
   "metadata": {},
   "source": [
    "---\n",
    "# Using ALS.fit"
   ]
  },
  {
   "cell_type": "code",
   "execution_count": 24,
   "metadata": {
    "scrolled": true
   },
   "outputs": [],
   "source": [
    "from pyspark.ml.evaluation import RegressionEvaluator\n",
    "from pyspark.ml.recommendation import ALS, ALSModel\n",
    "\n",
    "# note that there are 2 different ALS classes, one in ml, one in mllib"
   ]
  },
  {
   "cell_type": "markdown",
   "metadata": {},
   "source": [
    "## load datasets into spark dataframes"
   ]
  },
  {
   "cell_type": "code",
   "execution_count": 121,
   "metadata": {
    "scrolled": true
   },
   "outputs": [],
   "source": [
    "books = spark.read.load('book_id_map.csv', format='csv', header=True, inferSchema=True)\n",
    "train = spark.read.load('final_train.csv', format='csv', header=True, inferSchema=True)\n",
    "val = spark.read.load('final_val.csv', format='csv', header=True, inferSchema=True)\n",
    "test = spark.read.load('final_test.csv', format='csv', header=True, inferSchema=True)"
   ]
  },
  {
   "cell_type": "code",
   "execution_count": 122,
   "metadata": {
    "scrolled": true
   },
   "outputs": [
    {
     "data": {
      "text/plain": [
       "[Row(_c0=0, user_id=431147, book_id=414799, is_read=1, rating=5, is_reviewed=0),\n",
       " Row(_c0=1, user_id=431147, book_id=147207, is_read=1, rating=3, is_reviewed=0),\n",
       " Row(_c0=2, user_id=431147, book_id=943, is_read=1, rating=5, is_reviewed=0),\n",
       " Row(_c0=3, user_id=431147, book_id=613, is_read=1, rating=5, is_reviewed=0),\n",
       " Row(_c0=4, user_id=431147, book_id=944, is_read=1, rating=5, is_reviewed=0)]"
      ]
     },
     "execution_count": 122,
     "metadata": {},
     "output_type": "execute_result"
    }
   ],
   "source": [
    "train.head(5)"
   ]
  },
  {
   "cell_type": "code",
   "execution_count": 39,
   "metadata": {
    "scrolled": true
   },
   "outputs": [
    {
     "data": {
      "text/plain": [
       "pyspark.sql.dataframe.DataFrame"
      ]
     },
     "execution_count": 39,
     "metadata": {},
     "output_type": "execute_result"
    }
   ],
   "source": [
    "type(books)"
   ]
  },
  {
   "cell_type": "code",
   "execution_count": 19,
   "metadata": {
    "scrolled": true
   },
   "outputs": [],
   "source": [
    "# only keep the 3 columns we need\n",
    "train_data = train.select(train['user_id'], train['book_id'], train['rating'])\n",
    "val_data = val.select(val['user_id'], val['book_id'], val['rating'])\n",
    "test_data = test.select(test['user_id'], test['book_id'], test['rating'])"
   ]
  },
  {
   "cell_type": "code",
   "execution_count": 20,
   "metadata": {
    "scrolled": true
   },
   "outputs": [
    {
     "data": {
      "text/html": [
       "<div>\n",
       "<style scoped>\n",
       "    .dataframe tbody tr th:only-of-type {\n",
       "        vertical-align: middle;\n",
       "    }\n",
       "\n",
       "    .dataframe tbody tr th {\n",
       "        vertical-align: top;\n",
       "    }\n",
       "\n",
       "    .dataframe thead th {\n",
       "        text-align: right;\n",
       "    }\n",
       "</style>\n",
       "<table border=\"1\" class=\"dataframe\">\n",
       "  <thead>\n",
       "    <tr style=\"text-align: right;\">\n",
       "      <th></th>\n",
       "      <th>user_id</th>\n",
       "      <th>book_id</th>\n",
       "      <th>rating</th>\n",
       "    </tr>\n",
       "  </thead>\n",
       "  <tbody>\n",
       "    <tr>\n",
       "      <td>94778</td>\n",
       "      <td>71270</td>\n",
       "      <td>148</td>\n",
       "      <td>0</td>\n",
       "    </tr>\n",
       "    <tr>\n",
       "      <td>224786</td>\n",
       "      <td>76549</td>\n",
       "      <td>148</td>\n",
       "      <td>4</td>\n",
       "    </tr>\n",
       "  </tbody>\n",
       "</table>\n",
       "</div>"
      ],
      "text/plain": [
       "        user_id  book_id  rating\n",
       "94778     71270      148       0\n",
       "224786    76549      148       4"
      ]
     },
     "execution_count": 20,
     "metadata": {},
     "output_type": "execute_result"
    }
   ],
   "source": [
    "val_data.toPandas()[val_data.toPandas()['book_id'] == 148]"
   ]
  },
  {
   "cell_type": "code",
   "execution_count": 145,
   "metadata": {
    "scrolled": true
   },
   "outputs": [
    {
     "name": "stdout",
     "output_type": "stream",
     "text": [
      "+-------+-------+------+\n",
      "|user_id|book_id|rating|\n",
      "+-------+-------+------+\n",
      "| 128759|  99863|     4|\n",
      "| 128759|    669|     5|\n",
      "| 128759|  75832|     5|\n",
      "+-------+-------+------+\n",
      "\n"
     ]
    }
   ],
   "source": [
    "# create a spark's Dataframe of only 3 instances for faster sub_user recommendation later\n",
    "sub_users = spark.createDataFrame(val_data.head(3))\n",
    "spark.createDataFrame(val_data.head(3)).show()"
   ]
  },
  {
   "cell_type": "markdown",
   "metadata": {},
   "source": [
    "## ALS single model fitting"
   ]
  },
  {
   "cell_type": "code",
   "execution_count": 21,
   "metadata": {
    "scrolled": true
   },
   "outputs": [],
   "source": [
    "als=ALS(maxIter=5,regParam=0.2,rank=20,\n",
    "        userCol=\"user_id\",\n",
    "        itemCol=\"book_id\",\n",
    "        ratingCol=\"rating\",\n",
    "        coldStartStrategy=\"drop\", # if this is not set, rmse returns nan, why?\n",
    "        nonnegative=True)\n",
    "\n",
    "model = als.fit(train_data)\n",
    "\n",
    "# By default, Spark assigns NaN predictions during ALSModel.transform when a user and/or item factor is not present in the model. \n",
    "# This can be useful in a production system, since it indicates a new user or item, and so the system can make a decision \n",
    "# on some fallback to use as the prediction.However, this is undesirable during cross-validation, \n",
    "# since any NaN predicted values will result in NaN results for the evaluation metric (for example when using RegressionEvaluator). \n",
    "# This makes model selection impossible.\n",
    "# so we must set it to drop!\n",
    "# Spark allows users to set the coldStartStrategy parameter to “drop” in order to drop any rows in the DataFrame of predictions that contain NaN values. \n",
    "# The evaluation metric will then be computed over the non-NaN data and will be valid."
   ]
  },
  {
   "cell_type": "code",
   "execution_count": 23,
   "metadata": {
    "scrolled": true
   },
   "outputs": [],
   "source": [
    "model.save(\"modelSaveOut\") # save best model for easy accessing later"
   ]
  },
  {
   "cell_type": "code",
   "execution_count": 25,
   "metadata": {
    "scrolled": true
   },
   "outputs": [
    {
     "name": "stdout",
     "output_type": "stream",
     "text": [
      "ALS.ipynb                  int_1per.csv\r\n",
      "\u001b[34m__pycache__\u001b[m\u001b[m                inter_1pc.csv\r\n",
      "book_id_map.csv            \u001b[34mmodelSaveOut\u001b[m\u001b[m\r\n",
      "data split.ipynb           recomm_spark.py\r\n",
      "final lab notes.rtf        test_save_spark.py\r\n",
      "final_test.csv             test_spark.py\r\n",
      "final_train.csv            train_spark.py\r\n",
      "final_val.csv              user_id_map.csv\r\n",
      "goodreads_interactions.csv\r\n"
     ]
    }
   ],
   "source": [
    "!ls"
   ]
  },
  {
   "cell_type": "code",
   "execution_count": 22,
   "metadata": {
    "scrolled": true
   },
   "outputs": [
    {
     "name": "stdout",
     "output_type": "stream",
     "text": [
      "RMSE= 1.7758720975266975\n",
      "+-------+-------+------+----------+\n",
      "|user_id|book_id|rating|prediction|\n",
      "+-------+-------+------+----------+\n",
      "|  76549|    148|     4|  2.350713|\n",
      "|  71270|    148|     0| 0.6563779|\n",
      "|  71088|    471|     0| 1.3853086|\n",
      "| 151176|    471|     4| 1.8713434|\n",
      "| 108560|    833|     4| 0.8792532|\n",
      "+-------+-------+------+----------+\n",
      "only showing top 5 rows\n",
      "\n"
     ]
    }
   ],
   "source": [
    "evaluator = RegressionEvaluator(metricName=\"rmse\",\n",
    "                                labelCol=\"rating\",\n",
    "                                predictionCol=\"prediction\")\n",
    "predictions=model.transform(val_data)\n",
    "rmse=evaluator.evaluate(predictions)\n",
    "print(\"RMSE=\",rmse)\n",
    "predictions.show(5) # this is the val_data df with an extra prediction column"
   ]
  },
  {
   "cell_type": "code",
   "execution_count": 148,
   "metadata": {
    "scrolled": true
   },
   "outputs": [],
   "source": [
    "# make recommendations\n",
    "results = model.recommendForUserSubset(sub_users, 1)"
   ]
  },
  {
   "cell_type": "raw",
   "metadata": {},
   "source": [
    "# do not run this!!!\n",
    "results.toPandas()"
   ]
  },
  {
   "cell_type": "markdown",
   "metadata": {},
   "source": [
    "## ALS parameter tuning"
   ]
  },
  {
   "cell_type": "code",
   "execution_count": 154,
   "metadata": {
    "scrolled": true
   },
   "outputs": [],
   "source": [
    "def get_best_als(train_data, val_data, maxIter = 10, regs = [0.001, 0.01, 0.05, 0.1, 0.2],\n",
    "                 ranks = [8, 10, 12, 14, 16, 18, 20]):\n",
    "    \"\"\"\n",
    "    grid search function to select the best model based on RMSE of\n",
    "    validation data\n",
    "    Parameters\n",
    "    ----------\n",
    "    train_data: spark DF with columns ['user_id', 'book_id', 'rating']\n",
    "    \n",
    "    validation_data: spark DF with columns ['user_id', 'book_id', 'rating']\n",
    "    \n",
    "    maxIter: int, max number of learning iterations\n",
    "    \n",
    "    regs: list of float, one dimension of hyper-param tuning grid\n",
    "    \n",
    "    ranks: list of int, one dimension of hyper-param tuning grid\n",
    "    \n",
    "    Return\n",
    "    ------\n",
    "    The best fitted ALS model with lowest RMSE score on validation data\n",
    "    \"\"\"\n",
    "    # initialize variables\n",
    "    min_error = float('inf')\n",
    "    best_rank = -1\n",
    "    best_regularization = 0\n",
    "    best_model = None\n",
    "    \n",
    "    evaluator = RegressionEvaluator(metricName=\"rmse\",\n",
    "                                    labelCol=\"rating\",\n",
    "                                    predictionCol=\"prediction\")\n",
    "    \n",
    "    for rank in ranks:\n",
    "        for reg in regs:\n",
    "            als=ALS(maxIter=maxIter,regParam=reg,rank=rank,\n",
    "                    userCol=\"user_id\",\n",
    "                    itemCol=\"book_id\",\n",
    "                    ratingCol=\"rating\",\n",
    "                    coldStartStrategy=\"drop\", # if this is not set, rmse returns nan\n",
    "                    nonnegative=True)\n",
    "            model = als.fit(train_data)\n",
    "            predictions = model.transform(val_data)\n",
    "            rmse = evaluator.evaluate(predictions)\n",
    "\n",
    "            \n",
    "            if rmse < min_error:\n",
    "                min_error = rmse\n",
    "                best_rank = rank\n",
    "                best_regularization = reg\n",
    "                best_model = model\n",
    "                \n",
    "                print('{} latent factors and regularization = {}: '\n",
    "                  'validation RMSE is {}'.format(rank, reg, rmse))\n",
    "                \n",
    "    print('\\nThe best model has {} latent factors and '\n",
    "          'regularization = {}'.format(best_rank, best_regularization))\n",
    "            \n",
    "    \n",
    "    return best_model"
   ]
  },
  {
   "cell_type": "code",
   "execution_count": 232,
   "metadata": {},
   "outputs": [],
   "source": [
    "ranks = [8, 10, 12, 14, 16, 18, 20]\n",
    "regs = [0.001, 0.01, 0.05, 0.1, 0.2]"
   ]
  },
  {
   "cell_type": "code",
   "execution_count": 155,
   "metadata": {
    "scrolled": true
   },
   "outputs": [
    {
     "name": "stdout",
     "output_type": "stream",
     "text": [
      "8 latent factors and regularization = 0.001: validation RMSE is 2.193343389284863\n",
      "8 latent factors and regularization = 0.01: validation RMSE is 1.9811209952256954\n",
      "8 latent factors and regularization = 0.05: validation RMSE is 1.8814114788497316\n",
      "8 latent factors and regularization = 0.1: validation RMSE is 1.8280880483045037\n",
      "8 latent factors and regularization = 0.2: validation RMSE is 1.7877510027053956\n",
      "10 latent factors and regularization = 0.2: validation RMSE is 1.7811731425963415\n",
      "12 latent factors and regularization = 0.2: validation RMSE is 1.7776799510140204\n",
      "14 latent factors and regularization = 0.2: validation RMSE is 1.7760735153726381\n",
      "16 latent factors and regularization = 0.2: validation RMSE is 1.771874223015962\n",
      "18 latent factors and regularization = 0.2: validation RMSE is 1.7698881990035666\n",
      "20 latent factors and regularization = 0.2: validation RMSE is 1.7691436078132199\n",
      "\n",
      "The best model has 20 latent factors and regularization = 0.2\n"
     ]
    },
    {
     "data": {
      "image/png": "[encoded data removed]",
      "text/plain": [
       "<Figure size 864x432 with 1 Axes>"
      ]
     },
     "metadata": {
      "needs_background": "light"
     },
     "output_type": "display_data"
    },
    {
     "name": "stdout",
     "output_type": "stream",
     "text": [
      "Total Runtime: 4046.15 seconds\n"
     ]
    }
   ],
   "source": [
    "# hyper-param configurations\n",
    "num_iterations = 10\n",
    "ranks = [8, 10, 12, 14, 16, 18, 20]\n",
    "regs = [0.001, 0.01, 0.05, 0.1, 0.2]\n",
    "\n",
    "# grid search and select best model\n",
    "start_time = time.time()\n",
    "final_model = get_best_als(train_data, val_data, num_iterations, regs, ranks)\n",
    "\n",
    "print ('Total Runtime: {:.2f} seconds'.format(time.time() - start_time))"
   ]
  },
  {
   "cell_type": "markdown",
   "metadata": {},
   "source": [
    "## ALS model learning curve"
   ]
  },
  {
   "cell_type": "code",
   "execution_count": 160,
   "metadata": {
    "scrolled": true
   },
   "outputs": [],
   "source": [
    "def plot_learning_curve(train_data, val_data, reg, rank, arr_iters = list(range(1,11):\n",
    "    \"\"\"\n",
    "    Plot function to show learning curve of ALS over different maxIters\n",
    "    \"\"\"\n",
    "    errors = []\n",
    "    for maxIter in arr_iters:\n",
    "        # train ALS model\n",
    "        als=ALS(maxIter=maxIter, regParam=reg, rank=rank,\n",
    "                userCol=\"user_id\",\n",
    "                itemCol=\"book_id\",\n",
    "                ratingCol=\"rating\",\n",
    "                coldStartStrategy=\"drop\", # if this is not set, rmse returns nan\n",
    "                    nonnegative=True)\n",
    "        model = als.fit(train_data)\n",
    "        predictions = model.transform(val_data)\n",
    "        rmse = evaluator.evaluate(predictions)\n",
    "        \n",
    "        errors.append(rmse)\n",
    "\n",
    "    # plot\n",
    "    plt.figure(figsize=(12, 6))\n",
    "    plt.plot(arr_iters, errors)\n",
    "    plt.xlabel('number of iterations')\n",
    "    plt.ylabel('RMSE')\n",
    "    plt.title('ALS Learning Curve')\n",
    "    # plt.grid(True)\n",
    "    plt.show()"
   ]
  },
  {
   "cell_type": "code",
   "execution_count": 161,
   "metadata": {
    "scrolled": true
   },
   "outputs": [
    {
     "data": {
      "image/png": "[encoded data removed]",
      "text/plain": [
       "<Figure size 864x432 with 1 Axes>"
      ]
     },
     "metadata": {
      "needs_background": "light"
     },
     "output_type": "display_data"
    },
    {
     "name": "stdout",
     "output_type": "stream",
     "text": [
      "Total Runtime: 1000.92 seconds\n"
     ]
    }
   ],
   "source": [
    "# create an array of num_iters\n",
    "iter_array = list(range(1, 11))\n",
    "\n",
    "# plot learning curve\n",
    "start_time = time.time()\n",
    "plot_learning_curve(iter_array, train_data, val_data, 0.2, 20)\n",
    "\n",
    "print ('Total Runtime: {:.2f} seconds'.format(time.time() - start_time))"
   ]
  },
  {
   "cell_type": "markdown",
   "metadata": {},
   "source": [
    "## ALS test prediction and recommendation"
   ]
  },
  {
   "cell_type": "code",
   "execution_count": 26,
   "metadata": {
    "scrolled": true
   },
   "outputs": [],
   "source": [
    "final_model = ALSModel.load(\"modelSaveOut\")"
   ]
  },
  {
   "cell_type": "code",
   "execution_count": 27,
   "metadata": {
    "scrolled": true
   },
   "outputs": [
    {
     "name": "stdout",
     "output_type": "stream",
     "text": [
      "final test RMSE= 1.7730766314905004\n",
      "+-------+-------+------+-----------+\n",
      "|user_id|book_id|rating| prediction|\n",
      "+-------+-------+------+-----------+\n",
      "| 347669|    148|     0|   1.504346|\n",
      "| 107119|    148|     4|  2.6149368|\n",
      "| 186760|    148|     4|  2.1043317|\n",
      "| 362708|    148|     5|   2.022663|\n",
      "| 254718|    463|     0|0.026796421|\n",
      "+-------+-------+------+-----------+\n",
      "only showing top 5 rows\n",
      "\n"
     ]
    }
   ],
   "source": [
    "predictions=final_model.transform(test_data)\n",
    "rmse=evaluator.evaluate(predictions)\n",
    "print(\"final test RMSE=\",rmse)\n",
    "predictions.show(5) # this is the test_data df with an extra prediction column"
   ]
  },
  {
   "cell_type": "code",
   "execution_count": 112,
   "metadata": {
    "scrolled": true
   },
   "outputs": [],
   "source": [
    "recomm = final_model.recommendForAllUsers(2)"
   ]
  },
  {
   "cell_type": "code",
   "execution_count": 113,
   "metadata": {
    "scrolled": true
   },
   "outputs": [
    {
     "data": {
      "text/plain": [
       "pyspark.sql.dataframe.DataFrame"
      ]
     },
     "execution_count": 113,
     "metadata": {},
     "output_type": "execute_result"
    }
   ],
   "source": [
    "type(recomm)"
   ]
  },
  {
   "cell_type": "code",
   "execution_count": 114,
   "metadata": {
    "scrolled": true
   },
   "outputs": [
    {
     "name": "stdout",
     "output_type": "stream",
     "text": [
      "root\n",
      " |-- user_id: integer (nullable = false)\n",
      " |-- recommendations: array (nullable = true)\n",
      " |    |-- element: struct (containsNull = true)\n",
      " |    |    |-- book_id: integer (nullable = true)\n",
      " |    |    |-- rating: float (nullable = true)\n",
      "\n"
     ]
    }
   ],
   "source": [
    "recomm.printSchema()"
   ]
  },
  {
   "cell_type": "code",
   "execution_count": 115,
   "metadata": {
    "scrolled": true
   },
   "outputs": [],
   "source": [
    "recomm = recomm.select(\n",
    "    F.concat_ws(\", \", F.col(\"recommendations\").cast(\"array<string>\")).alias(\"redommendations\")\n",
    ")"
   ]
  },
  {
   "cell_type": "code",
   "execution_count": 116,
   "metadata": {
    "scrolled": true
   },
   "outputs": [
    {
     "name": "stdout",
     "output_type": "stream",
     "text": [
      "root\n",
      " |-- redommendations: string (nullable = false)\n",
      "\n"
     ]
    }
   ],
   "source": [
    "recomm.printSchema()"
   ]
  },
  {
   "cell_type": "code",
   "execution_count": null,
   "metadata": {
    "scrolled": true
   },
   "outputs": [],
   "source": [
    "recomm.write.csv(\"1_perc_csv/recommends\" ,header=True)\n",
    "# cannot export to csv bc one of my columns is an array\n",
    "# maybe convert it to rdd first?"
   ]
  },
  {
   "cell_type": "raw",
   "metadata": {},
   "source": [
    "# do not run this! this will never finish executing!\n",
    "recomm.show(3)\n",
    "\n",
    "The reason that this kills the CPU is maybe due to the fact that the recommendations column in this dataframe has elements nested in structures nested in arrays. This might be difficult to process. This is also the reason why the data could not be saved to any csv directly. \n",
    "\n",
    "As a result, we never got any time readings for both local python and local spark-submit executions of recommendation output. "
   ]
  },
  {
   "cell_type": "code",
   "execution_count": null,
   "metadata": {
    "scrolled": true
   },
   "outputs": [],
   "source": []
  },
  {
   "cell_type": "code",
   "execution_count": null,
   "metadata": {
    "scrolled": true
   },
   "outputs": [],
   "source": []
  },
  {
   "cell_type": "code",
   "execution_count": null,
   "metadata": {
    "scrolled": true
   },
   "outputs": [],
   "source": []
  },
  {
   "cell_type": "code",
   "execution_count": null,
   "metadata": {
    "scrolled": true
   },
   "outputs": [],
   "source": []
  },
  {
   "cell_type": "markdown",
   "metadata": {},
   "source": [
    "# LightFM"
   ]
  },
  {
   "cell_type": "code",
   "execution_count": 126,
   "metadata": {
    "scrolled": true
   },
   "outputs": [
    {
     "name": "stdout",
     "output_type": "stream",
     "text": [
      "Collecting lightfm\n",
      "  Downloading lightfm-1.15.tar.gz (302 kB)\n",
      "\u001b[K     |████████████████████████████████| 302 kB 1.4 MB/s eta 0:00:01\n",
      "\u001b[?25hRequirement already satisfied: numpy in /Users/w849277/opt/anaconda3/lib/python3.7/site-packages (from lightfm) (1.17.2)\n",
      "Requirement already satisfied: scipy>=0.17.0 in /Users/w849277/opt/anaconda3/lib/python3.7/site-packages (from lightfm) (1.3.1)\n",
      "Requirement already satisfied: requests in /Users/w849277/opt/anaconda3/lib/python3.7/site-packages (from lightfm) (2.22.0)\n",
      "Requirement already satisfied: certifi>=2017.4.17 in /Users/w849277/opt/anaconda3/lib/python3.7/site-packages (from requests->lightfm) (2020.4.5.1)\n",
      "Requirement already satisfied: urllib3!=1.25.0,!=1.25.1,<1.26,>=1.21.1 in /Users/w849277/opt/anaconda3/lib/python3.7/site-packages (from requests->lightfm) (1.24.2)\n",
      "Requirement already satisfied: idna<2.9,>=2.5 in /Users/w849277/opt/anaconda3/lib/python3.7/site-packages (from requests->lightfm) (2.8)\n",
      "Requirement already satisfied: chardet<3.1.0,>=3.0.2 in /Users/w849277/opt/anaconda3/lib/python3.7/site-packages (from requests->lightfm) (3.0.4)\n",
      "Building wheels for collected packages: lightfm\n",
      "  Building wheel for lightfm (setup.py) ... \u001b[?25ldone\n",
      "\u001b[?25h  Created wheel for lightfm: filename=lightfm-1.15-cp37-cp37m-macosx_10_9_x86_64.whl size=439895 sha256=122738b89e02738a5109b7b31cfb4ac17f3018e5cc2c58028eb1e2b5a164472d\n",
      "  Stored in directory: /Users/w849277/Library/Caches/pip/wheels/f0/cd/a5/b07914aa223c05ed61880d4c59f64a7febf117dbd2c2cbcf49\n",
      "Successfully built lightfm\n",
      "Installing collected packages: lightfm\n",
      "Successfully installed lightfm-1.15\n"
     ]
    }
   ],
   "source": [
    "!pip install lightfm"
   ]
  },
  {
   "cell_type": "code",
   "execution_count": 49,
   "metadata": {
    "scrolled": true
   },
   "outputs": [],
   "source": [
    "import numpy as np\n",
    "import pandas as pd\n",
    "import time\n",
    "\n",
    "from lightfm.data import Dataset\n",
    "from lightfm import LightFM\n",
    "from lightfm.evaluation import precision_at_k\n",
    "from lightfm.evaluation import auc_score\n",
    "from lightfm.cross_validation import random_train_test_split\n",
    "import scipy.sparse as sp"
   ]
  },
  {
   "cell_type": "markdown",
   "metadata": {},
   "source": [
    "## example model"
   ]
  },
  {
   "cell_type": "code",
   "execution_count": 31,
   "metadata": {
    "scrolled": true
   },
   "outputs": [],
   "source": [
    "from lightfm.datasets import fetch_movielens"
   ]
  },
  {
   "cell_type": "code",
   "execution_count": 33,
   "metadata": {
    "scrolled": true
   },
   "outputs": [
    {
     "data": {
      "text/plain": [
       "{'train': <943x1682 sparse matrix of type '<class 'numpy.int32'>'\n",
       " \twith 90570 stored elements in COOrdinate format>,\n",
       " 'test': <943x1682 sparse matrix of type '<class 'numpy.int32'>'\n",
       " \twith 9430 stored elements in COOrdinate format>,\n",
       " 'item_features': <1682x1682 sparse matrix of type '<class 'numpy.float32'>'\n",
       " \twith 1682 stored elements in Compressed Sparse Row format>,\n",
       " 'item_feature_labels': array(['Toy Story (1995)', 'GoldenEye (1995)', 'Four Rooms (1995)', ...,\n",
       "        'Sliding Doors (1998)', 'You So Crazy (1994)',\n",
       "        'Scream of Stone (Schrei aus Stein) (1991)'], dtype=object),\n",
       " 'item_labels': array(['Toy Story (1995)', 'GoldenEye (1995)', 'Four Rooms (1995)', ...,\n",
       "        'Sliding Doors (1998)', 'You So Crazy (1994)',\n",
       "        'Scream of Stone (Schrei aus Stein) (1991)'], dtype=object)}"
      ]
     },
     "execution_count": 33,
     "metadata": {},
     "output_type": "execute_result"
    }
   ],
   "source": [
    "data = fetch_movielens()\n",
    "data"
   ]
  },
  {
   "cell_type": "raw",
   "metadata": {},
   "source": [
    "Note that both 'train' and 'test' are sparse matrix of the same dimension! 943 users and 1682 movies, but they just have values are different locations. 'train' has 90570 actual ratings, and 'test' has 9430 actual ratings. this means that the matrix has to include EVERY user and every item in the entire dataset, but you can separate train, val, and test by their non-zero values. \n",
    "\n",
    "'item_features' is a square array of all ones, plotting each feature with itself, and doesn't really provide much use. \n",
    "\n",
    "both 'item_feature_labels' and 'item_labels' are linear arrays of length 1682. Since matrix has no schema, these arrays records the actual movies corresponding to each column in the matrix.\n",
    "\n",
    "maybe I should also have an array that records the actual user_id corresponding to each row later when I run my own version."
   ]
  },
  {
   "cell_type": "code",
   "execution_count": 35,
   "metadata": {
    "scrolled": true
   },
   "outputs": [
    {
     "name": "stdout",
     "output_type": "stream",
     "text": [
      "<943x1682 sparse matrix of type '<class 'numpy.int32'>'\n",
      "\twith 90570 stored elements in COOrdinate format>\n",
      "<943x1682 sparse matrix of type '<class 'numpy.int32'>'\n",
      "\twith 9430 stored elements in COOrdinate format>\n"
     ]
    }
   ],
   "source": [
    "print(repr(data['train']))\n",
    "print(repr(data['test']))"
   ]
  },
  {
   "cell_type": "code",
   "execution_count": 69,
   "metadata": {
    "scrolled": false
   },
   "outputs": [
    {
     "name": "stdout",
     "output_type": "stream",
     "text": [
      "  (0, 0)\t5.0\n",
      "  (0, 1)\t3.0\n",
      "  (0, 2)\t4.0\n",
      "  (0, 3)\t3.0\n",
      "  (0, 4)\t3.0\n",
      "  (0, 5)\t5.0\n",
      "  (0, 6)\t4.0\n",
      "  (0, 7)\t1.0\n",
      "  (0, 8)\t5.0\n",
      "  (0, 9)\t3.0\n",
      "  (0, 10)\t2.0\n",
      "  (0, 11)\t5.0\n",
      "  (0, 12)\t5.0\n",
      "  (0, 13)\t5.0\n",
      "  (0, 14)\t5.0\n",
      "  (0, 15)\t5.0\n",
      "  (0, 16)\t3.0\n",
      "  (0, 17)\t4.0\n",
      "  (0, 18)\t5.0\n",
      "  (0, 20)\t1.0\n",
      "  (0, 21)\t4.0\n",
      "  (0, 22)\t4.0\n",
      "  (0, 23)\t3.0\n",
      "  (0, 24)\t4.0\n",
      "  (0, 25)\t3.0\n",
      "  :\t:\n",
      "  (942, 723)\t1.0\n",
      "  (942, 731)\t4.0\n",
      "  (942, 738)\t4.0\n",
      "  (942, 755)\t2.0\n",
      "  (942, 762)\t4.0\n",
      "  (942, 764)\t3.0\n",
      "  (942, 784)\t2.0\n",
      "  (942, 793)\t3.0\n",
      "  (942, 795)\t3.0\n",
      "  (942, 815)\t4.0\n",
      "  (942, 823)\t4.0\n",
      "  (942, 824)\t3.0\n",
      "  (942, 830)\t2.0\n",
      "  (942, 839)\t4.0\n",
      "  (942, 927)\t5.0\n",
      "  (942, 940)\t1.0\n",
      "  (942, 942)\t5.0\n",
      "  (942, 1010)\t2.0\n",
      "  (942, 1027)\t2.0\n",
      "  (942, 1043)\t3.0\n",
      "  (942, 1046)\t2.0\n",
      "  (942, 1073)\t4.0\n",
      "  (942, 1187)\t3.0\n",
      "  (942, 1227)\t3.0\n",
      "  (942, 1329)\t3.0\n"
     ]
    }
   ],
   "source": [
    "print(data['train'])"
   ]
  },
  {
   "cell_type": "code",
   "execution_count": 63,
   "metadata": {
    "scrolled": true
   },
   "outputs": [
    {
     "name": "stdout",
     "output_type": "stream",
     "text": [
      "True\n"
     ]
    }
   ],
   "source": [
    "# they are the exact same arrays\n",
    "print((data['item_feature_labels'] == data['item_labels']).all())"
   ]
  },
  {
   "cell_type": "code",
   "execution_count": 65,
   "metadata": {
    "scrolled": true
   },
   "outputs": [
    {
     "name": "stdout",
     "output_type": "stream",
     "text": [
      "(1682,)\n"
     ]
    }
   ],
   "source": [
    "print(data['item_feature_labels'].shape)"
   ]
  },
  {
   "cell_type": "code",
   "execution_count": null,
   "metadata": {
    "scrolled": true
   },
   "outputs": [],
   "source": []
  },
  {
   "cell_type": "code",
   "execution_count": 44,
   "metadata": {
    "scrolled": true
   },
   "outputs": [
    {
     "data": {
      "text/plain": [
       "<lightfm.lightfm.LightFM at 0x1a18b96950>"
      ]
     },
     "execution_count": 44,
     "metadata": {},
     "output_type": "execute_result"
    }
   ],
   "source": [
    "model = LightFM(loss = 'warp)\n",
    "model.fit(data['train'], epochs=30, num_threads=2)"
   ]
  },
  {
   "cell_type": "code",
   "execution_count": 80,
   "metadata": {
    "scrolled": false
   },
   "outputs": [
    {
     "name": "stdout",
     "output_type": "stream",
     "text": [
      "  (0, 10)\t4.0\n",
      "  (0, 209)\t3.0\n",
      "  (0, 257)\t5.0\n",
      "  (0, 270)\t4.0\n",
      "  (0, 299)\t5.0\n",
      "  (0, 300)\t5.0\n",
      "  (0, 323)\t5.0\n",
      "  (0, 326)\t5.0\n",
      "  (0, 327)\t3.0\n",
      "  (0, 328)\t5.0\n",
      "  (0, 357)\t2.0\n",
      "  (0, 358)\t5.0\n",
      "  (0, 359)\t5.0\n",
      "  (0, 361)\t5.0\n"
     ]
    }
   ],
   "source": [
    "print(data['train'].tocsr()[3])\n",
    "# .tocsr() just turns out sparse matrix from COOrdinate format to row CSR format\n",
    "# this way, we can access rows using their row_index, and remember, each row represent a user\n",
    "# if you add .indices at the end, it just gets all the non-zero column-index on that row, which corresponds to \n",
    "# the columns that had an interaction with the user, input those column numbers into your\n",
    "# item_label key-array to see what movies they actually are"
   ]
  },
  {
   "cell_type": "code",
   "execution_count": 92,
   "metadata": {
    "scrolled": true
   },
   "outputs": [],
   "source": [
    "def sample_recommendation(model, data, user_ids, top_n=3):\n",
    "    # get number of all users and items in training set\n",
    "    n_users, n_items = data['train'].shape\n",
    "    scores=[]\n",
    "    \n",
    "    for user_id in user_ids:\n",
    "        # for each user, get the linear array of movies it had reviewed\n",
    "        known_positives = data['item_labels'][data['train'].tocsr()[user_id].indices]\n",
    "        \n",
    "        # for each user, predict its score for all items in the entire set, \n",
    "        # remember, train,val,and test all share the same matrix dimensions\n",
    "        scores = model.predict(user_id, np.arange(n_items))\n",
    "        print(scores)\n",
    "        \n",
    "        top_items = data['item_labels'][np.argsort(-scores)]\n",
    "        # this returns the indices that gets the highest to lowest scores\n",
    "        # these indices gets passed into the key_array to grab the actual items\n",
    "        \n",
    "        print(\"User %s\" % user_id)\n",
    "        \n",
    "        print(\"Known positives:\")\n",
    "        for x in known_positives[:3]:\n",
    "            print(\"%s\" % x)\n",
    "        \n",
    "        print(\"Recommended:\")\n",
    "        for x in top_items[:top_n]:\n",
    "            print(\"%s\" % x)\n",
    "            \n",
    "    return scores"
   ]
  },
  {
   "cell_type": "code",
   "execution_count": 93,
   "metadata": {
    "scrolled": true
   },
   "outputs": [
    {
     "name": "stdout",
     "output_type": "stream",
     "text": [
      "[-0.37205729 -2.09131265 -1.46539009 ... -2.24407625 -2.71388745\n",
      " -2.72469449]\n",
      "User 3\n",
      "Known positives:\n",
      "Seven (Se7en) (1995)\n",
      "Indiana Jones and the Last Crusade (1989)\n",
      "Contact (1997)\n",
      "Recommended:\n",
      "Contact (1997)\n",
      "L.A. Confidential (1997)\n",
      "Scream (1996)\n"
     ]
    }
   ],
   "source": [
    "# let's get recommendations for users 3 only\n",
    "pred_3 = sample_recommendation(model, data, [3])"
   ]
  },
  {
   "cell_type": "code",
   "execution_count": 97,
   "metadata": {
    "scrolled": true
   },
   "outputs": [
    {
     "name": "stdout",
     "output_type": "stream",
     "text": [
      "[False False False ... False False False]\n"
     ]
    }
   ],
   "source": [
    "print((pred_3>0))"
   ]
  },
  {
   "cell_type": "raw",
   "metadata": {},
   "source": [
    "Why are most scores less than 0? Let us look at the true values for user 3"
   ]
  },
  {
   "cell_type": "code",
   "execution_count": 98,
   "metadata": {
    "scrolled": true
   },
   "outputs": [
    {
     "name": "stdout",
     "output_type": "stream",
     "text": [
      "  (0, 10)\t4.0\n",
      "  (0, 209)\t3.0\n",
      "  (0, 257)\t5.0\n",
      "  (0, 270)\t4.0\n",
      "  (0, 299)\t5.0\n",
      "  (0, 300)\t5.0\n",
      "  (0, 323)\t5.0\n",
      "  (0, 326)\t5.0\n",
      "  (0, 327)\t3.0\n",
      "  (0, 328)\t5.0\n",
      "  (0, 357)\t2.0\n",
      "  (0, 358)\t5.0\n",
      "  (0, 359)\t5.0\n",
      "  (0, 361)\t5.0\n"
     ]
    }
   ],
   "source": [
    "print(data['train'].tocsr()[3])"
   ]
  },
  {
   "cell_type": "code",
   "execution_count": 99,
   "metadata": {
    "scrolled": true
   },
   "outputs": [
    {
     "name": "stdout",
     "output_type": "stream",
     "text": [
      "  (0, 49)\t5\n",
      "  (0, 259)\t4\n",
      "  (0, 263)\t3\n",
      "  (0, 287)\t4\n",
      "  (0, 293)\t5\n",
      "  (0, 302)\t5\n",
      "  (0, 353)\t5\n",
      "  (0, 355)\t3\n",
      "  (0, 356)\t4\n",
      "  (0, 360)\t5\n"
     ]
    }
   ],
   "source": [
    "print(data['test'].tocsr()[3])"
   ]
  },
  {
   "cell_type": "code",
   "execution_count": 104,
   "metadata": {
    "scrolled": true
   },
   "outputs": [
    {
     "data": {
      "text/plain": [
       "array([-0.41284922, -1.47133434, -0.11492401, -1.52557349])"
      ]
     },
     "execution_count": 104,
     "metadata": {},
     "output_type": "execute_result"
    }
   ],
   "source": [
    "pred_3[[10,209,49,360]]"
   ]
  },
  {
   "cell_type": "raw",
   "metadata": {},
   "source": [
    "Values that are supposed to be 4's and 5's are predicted as negative values. But why?"
   ]
  },
  {
   "cell_type": "markdown",
   "metadata": {},
   "source": [
    "## load data"
   ]
  },
  {
   "cell_type": "code",
   "execution_count": 5,
   "metadata": {
    "scrolled": true
   },
   "outputs": [
    {
     "name": "stdout",
     "output_type": "stream",
     "text": [
      "ALS.ipynb                  inter_1pc.csv\r\n",
      "\u001b[34m__pycache__\u001b[m\u001b[m                \u001b[34mmodelSaveOut\u001b[m\u001b[m\r\n",
      "book_id_map.csv            recomm_spark.py\r\n",
      "data split.ipynb           \u001b[34mresult_pics\u001b[m\u001b[m\r\n",
      "final lab notes.rtf        test_save_spark.py\r\n",
      "final_test.csv             test_spark.py\r\n",
      "final_train.csv            train_spark.py\r\n",
      "final_val.csv              user_id_map.csv\r\n",
      "goodreads_interactions.csv\r\n"
     ]
    }
   ],
   "source": [
    "!ls"
   ]
  },
  {
   "cell_type": "code",
   "execution_count": 162,
   "metadata": {
    "scrolled": true
   },
   "outputs": [
    {
     "data": {
      "text/html": [
       "<div>\n",
       "<style scoped>\n",
       "    .dataframe tbody tr th:only-of-type {\n",
       "        vertical-align: middle;\n",
       "    }\n",
       "\n",
       "    .dataframe tbody tr th {\n",
       "        vertical-align: top;\n",
       "    }\n",
       "\n",
       "    .dataframe thead th {\n",
       "        text-align: right;\n",
       "    }\n",
       "</style>\n",
       "<table border=\"1\" class=\"dataframe\">\n",
       "  <thead>\n",
       "    <tr style=\"text-align: right;\">\n",
       "      <th></th>\n",
       "      <th>Unnamed: 0</th>\n",
       "      <th>user_id</th>\n",
       "      <th>book_id</th>\n",
       "      <th>is_read</th>\n",
       "      <th>rating</th>\n",
       "      <th>is_reviewed</th>\n",
       "    </tr>\n",
       "  </thead>\n",
       "  <tbody>\n",
       "    <tr>\n",
       "      <td>0</td>\n",
       "      <td>1121</td>\n",
       "      <td>431372</td>\n",
       "      <td>276211</td>\n",
       "      <td>1</td>\n",
       "      <td>4</td>\n",
       "      <td>1</td>\n",
       "    </tr>\n",
       "    <tr>\n",
       "      <td>1</td>\n",
       "      <td>1056</td>\n",
       "      <td>431372</td>\n",
       "      <td>220499</td>\n",
       "      <td>0</td>\n",
       "      <td>0</td>\n",
       "      <td>0</td>\n",
       "    </tr>\n",
       "    <tr>\n",
       "      <td>2</td>\n",
       "      <td>930</td>\n",
       "      <td>431372</td>\n",
       "      <td>384591</td>\n",
       "      <td>1</td>\n",
       "      <td>4</td>\n",
       "      <td>0</td>\n",
       "    </tr>\n",
       "    <tr>\n",
       "      <td>3</td>\n",
       "      <td>1075</td>\n",
       "      <td>431372</td>\n",
       "      <td>103</td>\n",
       "      <td>1</td>\n",
       "      <td>4</td>\n",
       "      <td>0</td>\n",
       "    </tr>\n",
       "    <tr>\n",
       "      <td>4</td>\n",
       "      <td>1067</td>\n",
       "      <td>431372</td>\n",
       "      <td>877231</td>\n",
       "      <td>1</td>\n",
       "      <td>4</td>\n",
       "      <td>0</td>\n",
       "    </tr>\n",
       "  </tbody>\n",
       "</table>\n",
       "</div>"
      ],
      "text/plain": [
       "   Unnamed: 0  user_id  book_id  is_read  rating  is_reviewed\n",
       "0        1121   431372   276211        1       4            1\n",
       "1        1056   431372   220499        0       0            0\n",
       "2         930   431372   384591        1       4            0\n",
       "3        1075   431372      103        1       4            0\n",
       "4        1067   431372   877231        1       4            0"
      ]
     },
     "execution_count": 162,
     "metadata": {},
     "output_type": "execute_result"
    }
   ],
   "source": [
    "# load the datasets into pandas dataframes\n",
    "# this loads the tiny dataset we have created! not the actual 1% of data\n",
    "train = pd.read_csv('tiny_final_train.csv')\n",
    "val = pd.read_csv('tiny_final_val.csv')\n",
    "test = pd.read_csv('tiny_final_test.csv')\n",
    "\n",
    "val.head()"
   ]
  },
  {
   "cell_type": "code",
   "execution_count": 163,
   "metadata": {
    "scrolled": true
   },
   "outputs": [],
   "source": [
    "# only keep columns that we will use\n",
    "train_data = train[['user_id', 'book_id', 'rating']]\n",
    "val_data = val[['user_id', 'book_id', 'rating']]\n",
    "test_data = test[['user_id', 'book_id', 'rating']]"
   ]
  },
  {
   "cell_type": "code",
   "execution_count": 164,
   "metadata": {
    "scrolled": true
   },
   "outputs": [
    {
     "data": {
      "text/plain": [
       "user_id    int64\n",
       "book_id    int64\n",
       "rating     int64\n",
       "dtype: object"
      ]
     },
     "execution_count": 164,
     "metadata": {},
     "output_type": "execute_result"
    }
   ],
   "source": [
    "train_data.dtypes"
   ]
  },
  {
   "cell_type": "code",
   "execution_count": 165,
   "metadata": {
    "scrolled": true
   },
   "outputs": [],
   "source": [
    "train_fill = train_data.copy()\n",
    "# use a copy to avoid setting the original set to 0\n",
    "train_fill.loc[:, 'rating'] = 0\n",
    "\n",
    "val_fill = val_data.copy()\n",
    "# use a copy to avoid setting the original set to 0\n",
    "val_fill.loc[:, 'rating'] = 0\n",
    "\n",
    "test_fill = test_data.copy()\n",
    "# use a copy to avoid setting the original set to 0\n",
    "test_fill.loc[:, 'rating'] = 0"
   ]
  },
  {
   "cell_type": "code",
   "execution_count": 175,
   "metadata": {
    "scrolled": true
   },
   "outputs": [],
   "source": [
    "# first concat all these data into 1 large dataset to include every possible user and every possible book\n",
    "# but setting other splits to have a value of 0\n",
    "train_data_all = pd.concat([train_data, val_fill, test_fill])\n",
    "\n",
    "val_data_all = pd.concat([train_fill, val_data, test_fill])\n",
    "\n",
    "test_data_all = pd.concat([train_fill, val_fill, test_data])"
   ]
  },
  {
   "cell_type": "code",
   "execution_count": 182,
   "metadata": {
    "scrolled": true
   },
   "outputs": [
    {
     "data": {
      "text/plain": [
       "True"
      ]
     },
     "execution_count": 182,
     "metadata": {},
     "output_type": "execute_result"
    }
   ],
   "source": [
    "(len(val_data_all['user_id'].unique()) == len(train_data_all['user_id'].unique())\n",
    " == len(test_data_all['user_id'].unique()))# this will be the # of rows in our matrix"
   ]
  },
  {
   "cell_type": "code",
   "execution_count": 183,
   "metadata": {
    "scrolled": true
   },
   "outputs": [
    {
     "data": {
      "text/plain": [
       "True"
      ]
     },
     "execution_count": 183,
     "metadata": {},
     "output_type": "execute_result"
    }
   ],
   "source": [
    "(len(val_data_all['book_id'].unique())== len(train_data_all['book_id'].unique())\n",
    " == len(test_data_all['book_id'].unique())) # this will be the # of columns in our matrix"
   ]
  },
  {
   "cell_type": "code",
   "execution_count": 187,
   "metadata": {},
   "outputs": [],
   "source": [
    "# convert df to matrix-format\n",
    "train_mat = pd.pivot_table(train_data_all, index='user_id', columns='book_id', values = 'rating').fillna(0)\n",
    "val_mat = pd.pivot_table(val_data_all, index='user_id', columns='book_id', values = 'rating').fillna(0)\n",
    "test_mat = pd.pivot_table(val_data_all, index='user_id', columns='book_id', values = 'rating').fillna(0)"
   ]
  },
  {
   "cell_type": "code",
   "execution_count": 194,
   "metadata": {},
   "outputs": [
    {
     "data": {
      "text/html": [
       "<div>\n",
       "<style scoped>\n",
       "    .dataframe tbody tr th:only-of-type {\n",
       "        vertical-align: middle;\n",
       "    }\n",
       "\n",
       "    .dataframe tbody tr th {\n",
       "        vertical-align: top;\n",
       "    }\n",
       "\n",
       "    .dataframe thead th {\n",
       "        text-align: right;\n",
       "    }\n",
       "</style>\n",
       "<table border=\"1\" class=\"dataframe\">\n",
       "  <thead>\n",
       "    <tr style=\"text-align: right;\">\n",
       "      <th>book_id</th>\n",
       "      <th>15</th>\n",
       "      <th>41</th>\n",
       "      <th>43</th>\n",
       "      <th>51</th>\n",
       "      <th>66</th>\n",
       "      <th>72</th>\n",
       "      <th>103</th>\n",
       "      <th>108</th>\n",
       "      <th>111</th>\n",
       "      <th>119</th>\n",
       "      <th>...</th>\n",
       "      <th>1813469</th>\n",
       "      <th>1819822</th>\n",
       "      <th>1850381</th>\n",
       "      <th>1861616</th>\n",
       "      <th>1935677</th>\n",
       "      <th>1938667</th>\n",
       "      <th>2044951</th>\n",
       "      <th>2083042</th>\n",
       "      <th>2307245</th>\n",
       "      <th>2325799</th>\n",
       "    </tr>\n",
       "    <tr>\n",
       "      <th>user_id</th>\n",
       "      <th></th>\n",
       "      <th></th>\n",
       "      <th></th>\n",
       "      <th></th>\n",
       "      <th></th>\n",
       "      <th></th>\n",
       "      <th></th>\n",
       "      <th></th>\n",
       "      <th></th>\n",
       "      <th></th>\n",
       "      <th></th>\n",
       "      <th></th>\n",
       "      <th></th>\n",
       "      <th></th>\n",
       "      <th></th>\n",
       "      <th></th>\n",
       "      <th></th>\n",
       "      <th></th>\n",
       "      <th></th>\n",
       "      <th></th>\n",
       "      <th></th>\n",
       "    </tr>\n",
       "  </thead>\n",
       "  <tbody>\n",
       "    <tr>\n",
       "      <td>431147</td>\n",
       "      <td>0.0</td>\n",
       "      <td>0.0</td>\n",
       "      <td>0.0</td>\n",
       "      <td>0.0</td>\n",
       "      <td>0.0</td>\n",
       "      <td>0.0</td>\n",
       "      <td>0.0</td>\n",
       "      <td>0.0</td>\n",
       "      <td>0.0</td>\n",
       "      <td>0.0</td>\n",
       "      <td>...</td>\n",
       "      <td>0.0</td>\n",
       "      <td>0.0</td>\n",
       "      <td>0.0</td>\n",
       "      <td>0.0</td>\n",
       "      <td>0.0</td>\n",
       "      <td>0.0</td>\n",
       "      <td>0.0</td>\n",
       "      <td>0.0</td>\n",
       "      <td>0.0</td>\n",
       "      <td>0.0</td>\n",
       "    </tr>\n",
       "    <tr>\n",
       "      <td>431161</td>\n",
       "      <td>0.0</td>\n",
       "      <td>0.0</td>\n",
       "      <td>0.0</td>\n",
       "      <td>0.0</td>\n",
       "      <td>0.0</td>\n",
       "      <td>0.0</td>\n",
       "      <td>0.0</td>\n",
       "      <td>0.0</td>\n",
       "      <td>0.0</td>\n",
       "      <td>0.0</td>\n",
       "      <td>...</td>\n",
       "      <td>0.0</td>\n",
       "      <td>0.0</td>\n",
       "      <td>0.0</td>\n",
       "      <td>0.0</td>\n",
       "      <td>0.0</td>\n",
       "      <td>0.0</td>\n",
       "      <td>0.0</td>\n",
       "      <td>0.0</td>\n",
       "      <td>0.0</td>\n",
       "      <td>0.0</td>\n",
       "    </tr>\n",
       "    <tr>\n",
       "      <td>431371</td>\n",
       "      <td>0.0</td>\n",
       "      <td>0.0</td>\n",
       "      <td>0.0</td>\n",
       "      <td>0.0</td>\n",
       "      <td>0.0</td>\n",
       "      <td>0.0</td>\n",
       "      <td>0.0</td>\n",
       "      <td>0.0</td>\n",
       "      <td>0.0</td>\n",
       "      <td>0.0</td>\n",
       "      <td>...</td>\n",
       "      <td>0.0</td>\n",
       "      <td>0.0</td>\n",
       "      <td>0.0</td>\n",
       "      <td>0.0</td>\n",
       "      <td>0.0</td>\n",
       "      <td>0.0</td>\n",
       "      <td>0.0</td>\n",
       "      <td>0.0</td>\n",
       "      <td>0.0</td>\n",
       "      <td>0.0</td>\n",
       "    </tr>\n",
       "    <tr>\n",
       "      <td>431372</td>\n",
       "      <td>0.0</td>\n",
       "      <td>0.0</td>\n",
       "      <td>0.0</td>\n",
       "      <td>0.0</td>\n",
       "      <td>2.0</td>\n",
       "      <td>0.0</td>\n",
       "      <td>0.0</td>\n",
       "      <td>0.0</td>\n",
       "      <td>0.0</td>\n",
       "      <td>0.0</td>\n",
       "      <td>...</td>\n",
       "      <td>0.0</td>\n",
       "      <td>0.0</td>\n",
       "      <td>0.0</td>\n",
       "      <td>0.0</td>\n",
       "      <td>0.0</td>\n",
       "      <td>0.0</td>\n",
       "      <td>0.0</td>\n",
       "      <td>0.0</td>\n",
       "      <td>0.0</td>\n",
       "      <td>0.0</td>\n",
       "    </tr>\n",
       "    <tr>\n",
       "      <td>431644</td>\n",
       "      <td>0.0</td>\n",
       "      <td>0.0</td>\n",
       "      <td>0.0</td>\n",
       "      <td>0.0</td>\n",
       "      <td>0.0</td>\n",
       "      <td>0.0</td>\n",
       "      <td>0.0</td>\n",
       "      <td>0.0</td>\n",
       "      <td>0.0</td>\n",
       "      <td>0.0</td>\n",
       "      <td>...</td>\n",
       "      <td>0.0</td>\n",
       "      <td>0.0</td>\n",
       "      <td>0.0</td>\n",
       "      <td>0.0</td>\n",
       "      <td>0.0</td>\n",
       "      <td>0.0</td>\n",
       "      <td>0.0</td>\n",
       "      <td>0.0</td>\n",
       "      <td>0.0</td>\n",
       "      <td>0.0</td>\n",
       "    </tr>\n",
       "    <tr>\n",
       "      <td>431681</td>\n",
       "      <td>0.0</td>\n",
       "      <td>0.0</td>\n",
       "      <td>0.0</td>\n",
       "      <td>0.0</td>\n",
       "      <td>0.0</td>\n",
       "      <td>0.0</td>\n",
       "      <td>0.0</td>\n",
       "      <td>0.0</td>\n",
       "      <td>0.0</td>\n",
       "      <td>0.0</td>\n",
       "      <td>...</td>\n",
       "      <td>0.0</td>\n",
       "      <td>5.0</td>\n",
       "      <td>0.0</td>\n",
       "      <td>5.0</td>\n",
       "      <td>0.0</td>\n",
       "      <td>0.0</td>\n",
       "      <td>0.0</td>\n",
       "      <td>0.0</td>\n",
       "      <td>5.0</td>\n",
       "      <td>4.0</td>\n",
       "    </tr>\n",
       "    <tr>\n",
       "      <td>431810</td>\n",
       "      <td>0.0</td>\n",
       "      <td>0.0</td>\n",
       "      <td>0.0</td>\n",
       "      <td>0.0</td>\n",
       "      <td>5.0</td>\n",
       "      <td>0.0</td>\n",
       "      <td>0.0</td>\n",
       "      <td>0.0</td>\n",
       "      <td>0.0</td>\n",
       "      <td>0.0</td>\n",
       "      <td>...</td>\n",
       "      <td>0.0</td>\n",
       "      <td>0.0</td>\n",
       "      <td>0.0</td>\n",
       "      <td>0.0</td>\n",
       "      <td>0.0</td>\n",
       "      <td>0.0</td>\n",
       "      <td>0.0</td>\n",
       "      <td>0.0</td>\n",
       "      <td>0.0</td>\n",
       "      <td>0.0</td>\n",
       "    </tr>\n",
       "  </tbody>\n",
       "</table>\n",
       "<p>7 rows × 1876 columns</p>\n",
       "</div>"
      ],
      "text/plain": [
       "book_id  15       41       43       51       66       72       103      \\\n",
       "user_id                                                                  \n",
       "431147       0.0      0.0      0.0      0.0      0.0      0.0      0.0   \n",
       "431161       0.0      0.0      0.0      0.0      0.0      0.0      0.0   \n",
       "431371       0.0      0.0      0.0      0.0      0.0      0.0      0.0   \n",
       "431372       0.0      0.0      0.0      0.0      2.0      0.0      0.0   \n",
       "431644       0.0      0.0      0.0      0.0      0.0      0.0      0.0   \n",
       "431681       0.0      0.0      0.0      0.0      0.0      0.0      0.0   \n",
       "431810       0.0      0.0      0.0      0.0      5.0      0.0      0.0   \n",
       "\n",
       "book_id  108      111      119      ...  1813469  1819822  1850381  1861616  \\\n",
       "user_id                             ...                                       \n",
       "431147       0.0      0.0      0.0  ...      0.0      0.0      0.0      0.0   \n",
       "431161       0.0      0.0      0.0  ...      0.0      0.0      0.0      0.0   \n",
       "431371       0.0      0.0      0.0  ...      0.0      0.0      0.0      0.0   \n",
       "431372       0.0      0.0      0.0  ...      0.0      0.0      0.0      0.0   \n",
       "431644       0.0      0.0      0.0  ...      0.0      0.0      0.0      0.0   \n",
       "431681       0.0      0.0      0.0  ...      0.0      5.0      0.0      5.0   \n",
       "431810       0.0      0.0      0.0  ...      0.0      0.0      0.0      0.0   \n",
       "\n",
       "book_id  1935677  1938667  2044951  2083042  2307245  2325799  \n",
       "user_id                                                        \n",
       "431147       0.0      0.0      0.0      0.0      0.0      0.0  \n",
       "431161       0.0      0.0      0.0      0.0      0.0      0.0  \n",
       "431371       0.0      0.0      0.0      0.0      0.0      0.0  \n",
       "431372       0.0      0.0      0.0      0.0      0.0      0.0  \n",
       "431644       0.0      0.0      0.0      0.0      0.0      0.0  \n",
       "431681       0.0      0.0      0.0      0.0      5.0      4.0  \n",
       "431810       0.0      0.0      0.0      0.0      0.0      0.0  \n",
       "\n",
       "[7 rows x 1876 columns]"
      ]
     },
     "execution_count": 194,
     "metadata": {},
     "output_type": "execute_result"
    }
   ],
   "source": [
    "train_mat"
   ]
  },
  {
   "cell_type": "code",
   "execution_count": 209,
   "metadata": {},
   "outputs": [],
   "source": [
    "# create user_dict and book_dict for our datasets before extracting arr because later we only have their indices\n",
    "# ultimately, I want to get a true id based on the matrix idx\n",
    "user_dict=dict()\n",
    "book_dict=dict()\n",
    "\n",
    "idx = 0\n",
    "for i in train_mat.index:\n",
    "    user_dict[idx] = i\n",
    "    idx+=1\n",
    "    \n",
    "idx = 0\n",
    "for i in train_mat.columns:\n",
    "    book_dict[idx] = i\n",
    "    idx+=1"
   ]
  },
  {
   "cell_type": "code",
   "execution_count": 210,
   "metadata": {},
   "outputs": [],
   "source": [
    "train_coo = sp.coo_matrix(train_mat.values)\n",
    "val_coo = sp.coo_matrix(val_mat.values)\n",
    "test_coo = sp.coo_matrix(test_mat.values)"
   ]
  },
  {
   "cell_type": "code",
   "execution_count": 211,
   "metadata": {},
   "outputs": [
    {
     "data": {
      "text/plain": [
       "array([  43,  130,  131,  175,  197,  198,  305,  361,  367,  397,  409,\n",
       "        418,  423,  488,  489,  527,  561,  585,  605,  644,  647,  651,\n",
       "        659,  662,  663,  685,  709,  712,  719,  722,  727,  728,  730,\n",
       "        731,  732,  733,  755,  756,  757,  803,  816,  851,  853,  883,\n",
       "        894,  910,  917,  943,  975,  977,  978,  982, 1027, 1028, 1077,\n",
       "       1085, 1100, 1102, 1179, 1181, 1217, 1220, 1230, 1234, 1263, 1336,\n",
       "       1364, 1365, 1387, 1393, 1435, 1463, 1466, 1472, 1473, 1474, 1475,\n",
       "       1485, 1531, 1538, 1547, 1573, 1615, 1651, 1659, 1708, 1732, 1733,\n",
       "       1738, 1743, 1747, 1757, 1780, 1856], dtype=int32)"
      ]
     },
     "execution_count": 211,
     "metadata": {},
     "output_type": "execute_result"
    }
   ],
   "source": [
    "train_coo.tocsr()[1].indices"
   ]
  },
  {
   "cell_type": "code",
   "execution_count": 216,
   "metadata": {},
   "outputs": [
    {
     "data": {
      "text/plain": [
       "<lightfm.lightfm.LightFM at 0x1a40872b90>"
      ]
     },
     "execution_count": 216,
     "metadata": {},
     "output_type": "execute_result"
    }
   ],
   "source": [
    "model = LightFM(loss = 'warp')\n",
    "model.fit(train_coo, epochs=30, num_threads=4)"
   ]
  },
  {
   "cell_type": "code",
   "execution_count": 230,
   "metadata": {},
   "outputs": [],
   "source": [
    "def sample_recommendation(model, train_coo, user_ids, book_dict, user_dict, top_n=3):\n",
    "    # get number of all users and items in training set\n",
    "    n_users, n_items = train_coo.shape\n",
    "    scores=[]\n",
    "    \n",
    "    for user_id in user_ids:\n",
    "        \n",
    "        # for each user, get the linear array of books it had reviewed\n",
    "        known_positives = [book_dict[i] for i in train_coo.tocsr()[user_id].indices]\n",
    "        \n",
    "        # for each user, predict its score for all items in the entire set, \n",
    "        # remember, train,val,and test all share the same matrix dimensions\n",
    "        scores = model.predict(user_id, np.arange(n_items))\n",
    "#         print(scores)\n",
    "        \n",
    "        top_items = [book_dict[i] for i in np.argsort(-scores)]\n",
    "        # this returns the indices that gets the highest to lowest scores\n",
    "        # these indices gets passed into the key_array to grab the actual items\n",
    "        \n",
    "        print(\"User %s\" % user_dict[user_id])\n",
    "        \n",
    "        print(\"Known book_ids:\")\n",
    "        for x in known_positives[:3]:\n",
    "            print(\"%s\" % x)\n",
    "        \n",
    "        print(\"Recommend book_ids:\")\n",
    "        for x in top_items[:top_n]:\n",
    "            print(\"%s\" % x)\n",
    "            \n",
    "        print(70*'*')\n",
    "            \n",
    "    return"
   ]
  },
  {
   "cell_type": "code",
   "execution_count": 231,
   "metadata": {},
   "outputs": [
    {
     "name": "stdout",
     "output_type": "stream",
     "text": [
      "User 431147\n",
      "Known book_ids:\n",
      "438\n",
      "443\n",
      "536\n",
      "Recommend book_ids:\n",
      "7169\n",
      "46407\n",
      "7457\n",
      "16317\n",
      "1112\n",
      "**********************************************************************\n",
      "User 431161\n",
      "Known book_ids:\n",
      "459\n",
      "1062\n",
      "1065\n",
      "Recommend book_ids:\n",
      "52721\n",
      "78539\n",
      "860040\n",
      "28581\n",
      "1621\n",
      "**********************************************************************\n",
      "User 431371\n",
      "Known book_ids:\n",
      "461\n",
      "547\n",
      "586\n",
      "Recommend book_ids:\n",
      "96670\n",
      "7431\n",
      "19831\n",
      "786\n",
      "29330\n",
      "**********************************************************************\n",
      "User 431372\n",
      "Known book_ids:\n",
      "66\n",
      "133\n",
      "138\n",
      "Recommend book_ids:\n",
      "13320\n",
      "88932\n",
      "534431\n",
      "84423\n",
      "82621\n",
      "**********************************************************************\n",
      "User 431644\n",
      "Known book_ids:\n",
      "384\n",
      "677\n",
      "786\n",
      "Recommend book_ids:\n",
      "941\n",
      "20535\n",
      "7990\n",
      "828\n",
      "786\n",
      "**********************************************************************\n",
      "User 431681\n",
      "Known book_ids:\n",
      "2157\n",
      "2700\n",
      "2702\n",
      "Recommend book_ids:\n",
      "1273605\n",
      "636037\n",
      "734900\n",
      "458536\n",
      "65981\n",
      "**********************************************************************\n",
      "User 431810\n",
      "Known book_ids:\n",
      "66\n",
      "443\n",
      "613\n",
      "Recommend book_ids:\n",
      "941\n",
      "1000\n",
      "22509\n",
      "1044\n",
      "938\n",
      "**********************************************************************\n"
     ]
    }
   ],
   "source": [
    "# let's get the top 5 recommendations for all users\n",
    "sample_recommendation(model, train_coo, user_dict.keys(), book_dict, user_dict, top_n=5)"
   ]
  },
  {
   "cell_type": "markdown",
   "metadata": {},
   "source": [
    "## efforts for trying the full 1% data"
   ]
  },
  {
   "cell_type": "code",
   "execution_count": 169,
   "metadata": {
    "scrolled": true
   },
   "outputs": [
    {
     "data": {
      "text/html": [
       "<div>\n",
       "<style scoped>\n",
       "    .dataframe tbody tr th:only-of-type {\n",
       "        vertical-align: middle;\n",
       "    }\n",
       "\n",
       "    .dataframe tbody tr th {\n",
       "        vertical-align: top;\n",
       "    }\n",
       "\n",
       "    .dataframe thead th {\n",
       "        text-align: right;\n",
       "    }\n",
       "</style>\n",
       "<table border=\"1\" class=\"dataframe\">\n",
       "  <thead>\n",
       "    <tr style=\"text-align: right;\">\n",
       "      <th></th>\n",
       "      <th>user_id</th>\n",
       "      <th>book_id</th>\n",
       "      <th>rating</th>\n",
       "    </tr>\n",
       "  </thead>\n",
       "  <tbody>\n",
       "    <tr>\n",
       "      <td>0</td>\n",
       "      <td>11</td>\n",
       "      <td>55</td>\n",
       "      <td>3</td>\n",
       "    </tr>\n",
       "    <tr>\n",
       "      <td>1</td>\n",
       "      <td>22</td>\n",
       "      <td>55</td>\n",
       "      <td>2</td>\n",
       "    </tr>\n",
       "    <tr>\n",
       "      <td>2</td>\n",
       "      <td>22</td>\n",
       "      <td>44</td>\n",
       "      <td>1</td>\n",
       "    </tr>\n",
       "  </tbody>\n",
       "</table>\n",
       "</div>"
      ],
      "text/plain": [
       "   user_id  book_id  rating\n",
       "0       11       55       3\n",
       "1       22       55       2\n",
       "2       22       44       1"
      ]
     },
     "execution_count": 169,
     "metadata": {},
     "output_type": "execute_result"
    }
   ],
   "source": [
    "quick = pd.DataFrame({'user_id': [11,22,22], 'book_id':[55,55,44],'rating':[3,2,1]})\n",
    "quick"
   ]
  },
  {
   "cell_type": "code",
   "execution_count": 97,
   "metadata": {
    "scrolled": true
   },
   "outputs": [
    {
     "data": {
      "text/html": [
       "<div>\n",
       "<style scoped>\n",
       "    .dataframe tbody tr th:only-of-type {\n",
       "        vertical-align: middle;\n",
       "    }\n",
       "\n",
       "    .dataframe tbody tr th {\n",
       "        vertical-align: top;\n",
       "    }\n",
       "\n",
       "    .dataframe thead th {\n",
       "        text-align: right;\n",
       "    }\n",
       "</style>\n",
       "<table border=\"1\" class=\"dataframe\">\n",
       "  <thead>\n",
       "    <tr style=\"text-align: right;\">\n",
       "      <th>book_id</th>\n",
       "      <th>44</th>\n",
       "      <th>55</th>\n",
       "    </tr>\n",
       "    <tr>\n",
       "      <th>user_id</th>\n",
       "      <th></th>\n",
       "      <th></th>\n",
       "    </tr>\n",
       "  </thead>\n",
       "  <tbody>\n",
       "    <tr>\n",
       "      <td>0</td>\n",
       "      <td>NaN</td>\n",
       "      <td>3.0</td>\n",
       "    </tr>\n",
       "    <tr>\n",
       "      <td>1</td>\n",
       "      <td>1.0</td>\n",
       "      <td>2.0</td>\n",
       "    </tr>\n",
       "  </tbody>\n",
       "</table>\n",
       "</div>"
      ],
      "text/plain": [
       "book_id   44   55\n",
       "user_id          \n",
       "0        NaN  3.0\n",
       "1        1.0  2.0"
      ]
     },
     "execution_count": 97,
     "metadata": {},
     "output_type": "execute_result"
    }
   ],
   "source": [
    "# set unique user_id to be the row index, and unique book_id to be the column index\n",
    "pd.pivot_table(quick, index='user_id', columns='book_id', values = 'rating')"
   ]
  },
  {
   "cell_type": "code",
   "execution_count": 99,
   "metadata": {},
   "outputs": [
    {
     "data": {
      "text/plain": [
       "array([[nan,  3.],\n",
       "       [ 1.,  2.]])"
      ]
     },
     "execution_count": 99,
     "metadata": {},
     "output_type": "execute_result"
    }
   ],
   "source": [
    "pd.pivot_table(quick, index='user_id', columns='book_id', values = 'rating').values"
   ]
  },
  {
   "cell_type": "code",
   "execution_count": 101,
   "metadata": {},
   "outputs": [
    {
     "data": {
      "text/plain": [
       "<2x2 sparse matrix of type '<class 'numpy.float64'>'\n",
       "\twith 4 stored elements in COOrdinate format>"
      ]
     },
     "execution_count": 101,
     "metadata": {},
     "output_type": "execute_result"
    }
   ],
   "source": [
    "sp.coo_matrix(pd.pivot_table(quick, index='user_id', columns='book_id', values = 'rating').values)"
   ]
  },
  {
   "cell_type": "code",
   "execution_count": 16,
   "metadata": {
    "scrolled": true
   },
   "outputs": [
    {
     "data": {
      "text/html": [
       "<div>\n",
       "<style scoped>\n",
       "    .dataframe tbody tr th:only-of-type {\n",
       "        vertical-align: middle;\n",
       "    }\n",
       "\n",
       "    .dataframe tbody tr th {\n",
       "        vertical-align: top;\n",
       "    }\n",
       "\n",
       "    .dataframe thead th {\n",
       "        text-align: right;\n",
       "    }\n",
       "</style>\n",
       "<table border=\"1\" class=\"dataframe\">\n",
       "  <thead>\n",
       "    <tr style=\"text-align: right;\">\n",
       "      <th></th>\n",
       "      <th>44</th>\n",
       "      <th>55</th>\n",
       "    </tr>\n",
       "    <tr>\n",
       "      <th>user_id</th>\n",
       "      <th></th>\n",
       "      <th></th>\n",
       "    </tr>\n",
       "  </thead>\n",
       "  <tbody>\n",
       "    <tr>\n",
       "      <td>11</td>\n",
       "      <td>0</td>\n",
       "      <td>1</td>\n",
       "    </tr>\n",
       "    <tr>\n",
       "      <td>22</td>\n",
       "      <td>1</td>\n",
       "      <td>1</td>\n",
       "    </tr>\n",
       "  </tbody>\n",
       "</table>\n",
       "</div>"
      ],
      "text/plain": [
       "         44  55\n",
       "user_id        \n",
       "11        0   1\n",
       "22        1   1"
      ]
     },
     "execution_count": 16,
     "metadata": {},
     "output_type": "execute_result"
    }
   ],
   "source": [
    "# however, I cannot pivot bc my datasets are too large, so instead, I will\n",
    "quick_mat = pd.get_dummies(quick['book_id']).groupby(quick['user_id']).apply(sum)\n",
    "quick_mat"
   ]
  },
  {
   "cell_type": "code",
   "execution_count": 17,
   "metadata": {
    "scrolled": true
   },
   "outputs": [
    {
     "name": "stdout",
     "output_type": "stream",
     "text": [
      "  (0, 1)\t1\n",
      "  (1, 0)\t1\n",
      "  (1, 1)\t1\n"
     ]
    }
   ],
   "source": [
    "print(sp.coo_matrix(quick_mat.values))"
   ]
  },
  {
   "cell_type": "raw",
   "metadata": {},
   "source": [
    "Still, I cannot get dummies on my training set because it is too large, and my kernel always crashes. I will try another way"
   ]
  },
  {
   "cell_type": "code",
   "execution_count": 18,
   "metadata": {
    "scrolled": true
   },
   "outputs": [
    {
     "data": {
      "text/html": [
       "<div>\n",
       "<style scoped>\n",
       "    .dataframe tbody tr th:only-of-type {\n",
       "        vertical-align: middle;\n",
       "    }\n",
       "\n",
       "    .dataframe tbody tr th {\n",
       "        vertical-align: top;\n",
       "    }\n",
       "\n",
       "    .dataframe thead th {\n",
       "        text-align: right;\n",
       "    }\n",
       "</style>\n",
       "<table border=\"1\" class=\"dataframe\">\n",
       "  <thead>\n",
       "    <tr style=\"text-align: right;\">\n",
       "      <th></th>\n",
       "      <th></th>\n",
       "      <th>rating</th>\n",
       "    </tr>\n",
       "    <tr>\n",
       "      <th>user_id</th>\n",
       "      <th>book_id</th>\n",
       "      <th></th>\n",
       "    </tr>\n",
       "  </thead>\n",
       "  <tbody>\n",
       "    <tr>\n",
       "      <td>11</td>\n",
       "      <td>55</td>\n",
       "      <td>3</td>\n",
       "    </tr>\n",
       "    <tr>\n",
       "      <td rowspan=\"2\" valign=\"top\">22</td>\n",
       "      <td>44</td>\n",
       "      <td>1</td>\n",
       "    </tr>\n",
       "    <tr>\n",
       "      <td>55</td>\n",
       "      <td>2</td>\n",
       "    </tr>\n",
       "  </tbody>\n",
       "</table>\n",
       "</div>"
      ],
      "text/plain": [
       "                 rating\n",
       "user_id book_id        \n",
       "11      55            3\n",
       "22      44            1\n",
       "        55            2"
      ]
     },
     "execution_count": 18,
     "metadata": {},
     "output_type": "execute_result"
    }
   ],
   "source": [
    "quick.groupby(['user_id', 'book_id']).sum() "
   ]
  },
  {
   "cell_type": "raw",
   "metadata": {},
   "source": [
    "my training set is still too big to get dummies, I can try to get this, get the user_id and book_id as indices, and try again. But before that, I have to record the meaningful user_id and book_id's, since they will later be changed into indices"
   ]
  },
  {
   "cell_type": "code",
   "execution_count": 20,
   "metadata": {
    "scrolled": true
   },
   "outputs": [
    {
     "data": {
      "text/html": [
       "<div>\n",
       "<style scoped>\n",
       "    .dataframe tbody tr th:only-of-type {\n",
       "        vertical-align: middle;\n",
       "    }\n",
       "\n",
       "    .dataframe tbody tr th {\n",
       "        vertical-align: top;\n",
       "    }\n",
       "\n",
       "    .dataframe thead th {\n",
       "        text-align: right;\n",
       "    }\n",
       "</style>\n",
       "<table border=\"1\" class=\"dataframe\">\n",
       "  <thead>\n",
       "    <tr style=\"text-align: right;\">\n",
       "      <th></th>\n",
       "      <th>user_id</th>\n",
       "      <th>book_id</th>\n",
       "      <th>rating</th>\n",
       "    </tr>\n",
       "  </thead>\n",
       "  <tbody>\n",
       "    <tr>\n",
       "      <td>0</td>\n",
       "      <td>11</td>\n",
       "      <td>55</td>\n",
       "      <td>3</td>\n",
       "    </tr>\n",
       "    <tr>\n",
       "      <td>1</td>\n",
       "      <td>22</td>\n",
       "      <td>55</td>\n",
       "      <td>2</td>\n",
       "    </tr>\n",
       "    <tr>\n",
       "      <td>2</td>\n",
       "      <td>22</td>\n",
       "      <td>44</td>\n",
       "      <td>1</td>\n",
       "    </tr>\n",
       "  </tbody>\n",
       "</table>\n",
       "</div>"
      ],
      "text/plain": [
       "   user_id  book_id  rating\n",
       "0       11       55       3\n",
       "1       22       55       2\n",
       "2       22       44       1"
      ]
     },
     "execution_count": 20,
     "metadata": {},
     "output_type": "execute_result"
    }
   ],
   "source": [
    "quick"
   ]
  },
  {
   "cell_type": "code",
   "execution_count": 29,
   "metadata": {
    "scrolled": true
   },
   "outputs": [
    {
     "data": {
      "text/plain": [
       "{11: 0, 22: 1}"
      ]
     },
     "execution_count": 29,
     "metadata": {},
     "output_type": "execute_result"
    }
   ],
   "source": [
    "user_dict = dict({11:0, 22:1})\n",
    "# the keys are the original user_id's, the values are their new values as indices in the sparse matrix"
   ]
  },
  {
   "cell_type": "code",
   "execution_count": 30,
   "metadata": {
    "scrolled": true
   },
   "outputs": [
    {
     "data": {
      "text/html": [
       "<div>\n",
       "<style scoped>\n",
       "    .dataframe tbody tr th:only-of-type {\n",
       "        vertical-align: middle;\n",
       "    }\n",
       "\n",
       "    .dataframe tbody tr th {\n",
       "        vertical-align: top;\n",
       "    }\n",
       "\n",
       "    .dataframe thead th {\n",
       "        text-align: right;\n",
       "    }\n",
       "</style>\n",
       "<table border=\"1\" class=\"dataframe\">\n",
       "  <thead>\n",
       "    <tr style=\"text-align: right;\">\n",
       "      <th></th>\n",
       "      <th>user_id</th>\n",
       "      <th>book_id</th>\n",
       "      <th>rating</th>\n",
       "    </tr>\n",
       "  </thead>\n",
       "  <tbody>\n",
       "    <tr>\n",
       "      <td>0</td>\n",
       "      <td>0</td>\n",
       "      <td>55</td>\n",
       "      <td>3</td>\n",
       "    </tr>\n",
       "    <tr>\n",
       "      <td>1</td>\n",
       "      <td>1</td>\n",
       "      <td>55</td>\n",
       "      <td>2</td>\n",
       "    </tr>\n",
       "    <tr>\n",
       "      <td>2</td>\n",
       "      <td>1</td>\n",
       "      <td>44</td>\n",
       "      <td>1</td>\n",
       "    </tr>\n",
       "  </tbody>\n",
       "</table>\n",
       "</div>"
      ],
      "text/plain": [
       "   user_id  book_id  rating\n",
       "0        0       55       3\n",
       "1        1       55       2\n",
       "2        1       44       1"
      ]
     },
     "execution_count": 30,
     "metadata": {},
     "output_type": "execute_result"
    }
   ],
   "source": [
    "for i in range(len(quick['user_id'])):\n",
    "    quick['user_id'][i] = user_dict[quick['user_id'][i]]\n",
    "    \n",
    "quick"
   ]
  },
  {
   "cell_type": "code",
   "execution_count": 50,
   "metadata": {
    "scrolled": true
   },
   "outputs": [
    {
     "data": {
      "text/html": [
       "<div>\n",
       "<style scoped>\n",
       "    .dataframe tbody tr th:only-of-type {\n",
       "        vertical-align: middle;\n",
       "    }\n",
       "\n",
       "    .dataframe tbody tr th {\n",
       "        vertical-align: top;\n",
       "    }\n",
       "\n",
       "    .dataframe thead th {\n",
       "        text-align: right;\n",
       "    }\n",
       "</style>\n",
       "<table border=\"1\" class=\"dataframe\">\n",
       "  <thead>\n",
       "    <tr style=\"text-align: right;\">\n",
       "      <th></th>\n",
       "      <th></th>\n",
       "      <th>rating</th>\n",
       "    </tr>\n",
       "    <tr>\n",
       "      <th>user_id</th>\n",
       "      <th>book_id</th>\n",
       "      <th></th>\n",
       "    </tr>\n",
       "  </thead>\n",
       "  <tbody>\n",
       "    <tr>\n",
       "      <td>0</td>\n",
       "      <td>55</td>\n",
       "      <td>3</td>\n",
       "    </tr>\n",
       "    <tr>\n",
       "      <td rowspan=\"2\" valign=\"top\">1</td>\n",
       "      <td>44</td>\n",
       "      <td>1</td>\n",
       "    </tr>\n",
       "    <tr>\n",
       "      <td>55</td>\n",
       "      <td>2</td>\n",
       "    </tr>\n",
       "  </tbody>\n",
       "</table>\n",
       "</div>"
      ],
      "text/plain": [
       "                 rating\n",
       "user_id book_id        \n",
       "0       55            3\n",
       "1       44            1\n",
       "        55            2"
      ]
     },
     "execution_count": 50,
     "metadata": {},
     "output_type": "execute_result"
    }
   ],
   "source": [
    "qgb = quick.groupby(['user_id', 'book_id']).sum() \n",
    "# now, these transformed id's can be directly used to indicate indices in the sparse matrix\n",
    "\n",
    "qgb"
   ]
  },
  {
   "cell_type": "code",
   "execution_count": 51,
   "metadata": {
    "scrolled": true
   },
   "outputs": [
    {
     "data": {
      "text/html": [
       "<div>\n",
       "<style scoped>\n",
       "    .dataframe tbody tr th:only-of-type {\n",
       "        vertical-align: middle;\n",
       "    }\n",
       "\n",
       "    .dataframe tbody tr th {\n",
       "        vertical-align: top;\n",
       "    }\n",
       "\n",
       "    .dataframe thead th {\n",
       "        text-align: right;\n",
       "    }\n",
       "</style>\n",
       "<table border=\"1\" class=\"dataframe\">\n",
       "  <thead>\n",
       "    <tr style=\"text-align: right;\">\n",
       "      <th></th>\n",
       "      <th></th>\n",
       "      <th>rating</th>\n",
       "    </tr>\n",
       "    <tr>\n",
       "      <th>user_id</th>\n",
       "      <th>book_id</th>\n",
       "      <th></th>\n",
       "    </tr>\n",
       "  </thead>\n",
       "  <tbody>\n",
       "    <tr>\n",
       "      <td>0</td>\n",
       "      <td>55</td>\n",
       "      <td>3</td>\n",
       "    </tr>\n",
       "    <tr>\n",
       "      <td rowspan=\"2\" valign=\"top\">1</td>\n",
       "      <td>44</td>\n",
       "      <td>1</td>\n",
       "    </tr>\n",
       "    <tr>\n",
       "      <td>55</td>\n",
       "      <td>2</td>\n",
       "    </tr>\n",
       "  </tbody>\n",
       "</table>\n",
       "</div>"
      ],
      "text/plain": [
       "                 rating\n",
       "user_id book_id        \n",
       "0       55            3\n",
       "1       44            1\n",
       "        55            2"
      ]
     },
     "execution_count": 51,
     "metadata": {},
     "output_type": "execute_result"
    }
   ],
   "source": [
    "qgb[qgb['rating']!=0] # only grab the non-zero entries"
   ]
  },
  {
   "cell_type": "code",
   "execution_count": 65,
   "metadata": {
    "scrolled": true
   },
   "outputs": [
    {
     "name": "stdout",
     "output_type": "stream",
     "text": [
      "(0, 55)\n",
      "3\n",
      "--------------------------------------------------\n",
      "(1, 44)\n",
      "1\n",
      "--------------------------------------------------\n",
      "(1, 55)\n",
      "2\n",
      "--------------------------------------------------\n"
     ]
    }
   ],
   "source": [
    "row_lst=[]\n",
    "col_lst=[]\n",
    "value_lst=[]\n",
    "for i in quick.groupby(['user_id', 'book_id']): # notice, there is no aggregationg here!\n",
    "    print(i[0]) # this can serve as our matrix index\n",
    "    print(i[1]['rating'].iloc[0]) # this will be the value\n",
    "    value = i[1]['rating'].iloc[0]\n",
    "    if value!= 0: # only store non-zero values\n",
    "        row_lst.append(i[0][0])\n",
    "        col_lst.append(i[0][1])\n",
    "        value_lst.append(value)\n",
    "    print(50*'-')"
   ]
  },
  {
   "cell_type": "code",
   "execution_count": 68,
   "metadata": {
    "scrolled": true
   },
   "outputs": [
    {
     "data": {
      "text/plain": [
       "<2x56 sparse matrix of type '<class 'numpy.int64'>'\n",
       "\twith 3 stored elements in COOrdinate format>"
      ]
     },
     "execution_count": 68,
     "metadata": {},
     "output_type": "execute_result"
    }
   ],
   "source": [
    "# create a coo matrix using those 3 lists\n",
    "sp.coo_matrix((value_lst, (row_lst, col_lst)))"
   ]
  },
  {
   "cell_type": "code",
   "execution_count": 69,
   "metadata": {
    "scrolled": true
   },
   "outputs": [
    {
     "name": "stdout",
     "output_type": "stream",
     "text": [
      "  (0, 55)\t3\n",
      "  (1, 44)\t1\n",
      "  (1, 55)\t2\n"
     ]
    }
   ],
   "source": [
    "print(sp.coo_matrix((value_lst, (row_lst, col_lst))))"
   ]
  },
  {
   "cell_type": "code",
   "execution_count": 43,
   "metadata": {
    "scrolled": true
   },
   "outputs": [],
   "source": [
    "# create user_dict and book_dict for our datasets because later we only have their indices\n",
    "user_dict=dict()\n",
    "book_dict=dict()\n",
    "\n",
    "idx = 0\n",
    "for i in train_data_all['user_id'].unique():\n",
    "    user_dict[i] = idx\n",
    "    idx+=1\n",
    "    \n",
    "idx = 0\n",
    "for i in train_data_all['book_id'].unique():\n",
    "    book_dict[i] = idx\n",
    "    idx+=1"
   ]
  },
  {
   "cell_type": "code",
   "execution_count": 152,
   "metadata": {
    "scrolled": true
   },
   "outputs": [
    {
     "data": {
      "text/plain": [
       "0         431147\n",
       "1         431147\n",
       "2         431147\n",
       "3         431147\n",
       "4         431147\n",
       "           ...  \n",
       "252897    818964\n",
       "252898    818964\n",
       "252899    818964\n",
       "252900    818964\n",
       "252901    818964\n",
       "Name: user_id, Length: 2432070, dtype: int64"
      ]
     },
     "execution_count": 152,
     "metadata": {},
     "output_type": "execute_result"
    }
   ],
   "source": [
    "train_data_all['user_id']"
   ]
  },
  {
   "cell_type": "code",
   "execution_count": 47,
   "metadata": {
    "scrolled": true
   },
   "outputs": [
    {
     "data": {
      "text/plain": [
       "431147"
      ]
     },
     "execution_count": 47,
     "metadata": {},
     "output_type": "execute_result"
    }
   ],
   "source": [
    "train_data_all['user_id'].iloc[0]"
   ]
  },
  {
   "cell_type": "raw",
   "metadata": {},
   "source": [
    "# change user_id and book_id to their corresponding matrix index\n",
    "for i in range(len(train_data_all['user_id'])):\n",
    "    train_data_all['user_id'].iloc[i] = user_dict[train_data_all['user_id'].iloc[i]]\n",
    "    \n",
    "DO NOT RUN THIS! takes too long!\n",
    "if re-issuing user_id takes this long, then reissueing book_id will be even more impossible"
   ]
  },
  {
   "cell_type": "raw",
   "metadata": {},
   "source": [
    "What if, instead, we just use the user_id's and book_id's as their matrix index. Surely, our sparse matrix will turn out to be way bigger than it needs to be, but the indexed values are still meaningful. "
   ]
  },
  {
   "cell_type": "code",
   "execution_count": 142,
   "metadata": {
    "scrolled": false
   },
   "outputs": [
    {
     "data": {
      "text/html": [
       "<div>\n",
       "<style scoped>\n",
       "    .dataframe tbody tr th:only-of-type {\n",
       "        vertical-align: middle;\n",
       "    }\n",
       "\n",
       "    .dataframe tbody tr th {\n",
       "        vertical-align: top;\n",
       "    }\n",
       "\n",
       "    .dataframe thead th {\n",
       "        text-align: right;\n",
       "    }\n",
       "</style>\n",
       "<table border=\"1\" class=\"dataframe\">\n",
       "  <thead>\n",
       "    <tr style=\"text-align: right;\">\n",
       "      <th></th>\n",
       "      <th></th>\n",
       "      <th>rating</th>\n",
       "    </tr>\n",
       "    <tr>\n",
       "      <th>user_id</th>\n",
       "      <th>book_id</th>\n",
       "      <th></th>\n",
       "    </tr>\n",
       "  </thead>\n",
       "  <tbody>\n",
       "    <tr>\n",
       "      <td rowspan=\"5\" valign=\"top\">106</td>\n",
       "      <td>0</td>\n",
       "      <td>0</td>\n",
       "    </tr>\n",
       "    <tr>\n",
       "      <td>34</td>\n",
       "      <td>0</td>\n",
       "    </tr>\n",
       "    <tr>\n",
       "      <td>37</td>\n",
       "      <td>0</td>\n",
       "    </tr>\n",
       "    <tr>\n",
       "      <td>58</td>\n",
       "      <td>0</td>\n",
       "    </tr>\n",
       "    <tr>\n",
       "      <td>69</td>\n",
       "      <td>5</td>\n",
       "    </tr>\n",
       "    <tr>\n",
       "      <td>...</td>\n",
       "      <td>...</td>\n",
       "      <td>...</td>\n",
       "    </tr>\n",
       "    <tr>\n",
       "      <td rowspan=\"5\" valign=\"top\">876025</td>\n",
       "      <td>146136</td>\n",
       "      <td>0</td>\n",
       "    </tr>\n",
       "    <tr>\n",
       "      <td>349284</td>\n",
       "      <td>0</td>\n",
       "    </tr>\n",
       "    <tr>\n",
       "      <td>372392</td>\n",
       "      <td>0</td>\n",
       "    </tr>\n",
       "    <tr>\n",
       "      <td>622848</td>\n",
       "      <td>5</td>\n",
       "    </tr>\n",
       "    <tr>\n",
       "      <td>680002</td>\n",
       "      <td>4</td>\n",
       "    </tr>\n",
       "  </tbody>\n",
       "</table>\n",
       "<p>2203944 rows × 1 columns</p>\n",
       "</div>"
      ],
      "text/plain": [
       "                 rating\n",
       "user_id book_id        \n",
       "106     0             0\n",
       "        34            0\n",
       "        37            0\n",
       "        58            0\n",
       "        69            5\n",
       "...                 ...\n",
       "876025  146136        0\n",
       "        349284        0\n",
       "        372392        0\n",
       "        622848        5\n",
       "        680002        4\n",
       "\n",
       "[2203944 rows x 1 columns]"
      ]
     },
     "execution_count": 142,
     "metadata": {},
     "output_type": "execute_result"
    }
   ],
   "source": [
    "train_data_all.groupby(['user_id', 'book_id']).sum() \n",
    "# since each user-book pair will only have 1 rating, the sum will be the same as that rating"
   ]
  },
  {
   "cell_type": "raw",
   "metadata": {},
   "source": [
    "row_lst=[]\n",
    "col_lst=[]\n",
    "value_lst=[]\n",
    "for i in train_data_all.groupby(['user_id', 'book_id']): # notice, there is no aggregationg here!\n",
    "    # print(i[0]) # this can serve as our matrix index\n",
    "    # print(i[1]['rating'].iloc[0]) # this will be the rating value\n",
    "    value = i[1]['rating'].iloc[0]\n",
    "    if value!= 0: # only store non-zero values\n",
    "        row_lst.append(i[0][0])\n",
    "        col_lst.append(i[0][1])\n",
    "        value_lst.append(value)\n",
    "        \n",
    "## this ALSO takes WAY too long! do not run this!"
   ]
  },
  {
   "cell_type": "raw",
   "metadata": {},
   "source": [
    "Ok, stop going down the pandas rabbit hole, maybe pivot sparks dataframes?"
   ]
  },
  {
   "cell_type": "code",
   "execution_count": 81,
   "metadata": {},
   "outputs": [
    {
     "name": "stdout",
     "output_type": "stream",
     "text": [
      "+-------+-------+------+\n",
      "|user_id|book_id|rating|\n",
      "+-------+-------+------+\n",
      "|      0|     55|     3|\n",
      "|      1|     55|     2|\n",
      "|      1|     44|     1|\n",
      "+-------+-------+------+\n",
      "\n"
     ]
    }
   ],
   "source": [
    "quick_spark = spark.createDataFrame(quick)\n",
    "quick_spark.show()"
   ]
  },
  {
   "cell_type": "code",
   "execution_count": 93,
   "metadata": {},
   "outputs": [],
   "source": [
    "from pyspark.sql.functions import avg, first"
   ]
  },
  {
   "cell_type": "code",
   "execution_count": 143,
   "metadata": {},
   "outputs": [],
   "source": [
    "quick_mat = quick_spark.groupby('user_id').pivot('book_id').agg(first(\"rating\")).na.fill(0)"
   ]
  },
  {
   "cell_type": "code",
   "execution_count": 144,
   "metadata": {},
   "outputs": [
    {
     "name": "stdout",
     "output_type": "stream",
     "text": [
      "+-------+---+---+\n",
      "|user_id| 44| 55|\n",
      "+-------+---+---+\n",
      "|      0|  0|  3|\n",
      "|      1|  1|  2|\n",
      "+-------+---+---+\n",
      "\n"
     ]
    }
   ],
   "source": [
    "quick_mat.show()"
   ]
  },
  {
   "cell_type": "code",
   "execution_count": 159,
   "metadata": {},
   "outputs": [
    {
     "data": {
      "text/plain": [
       "array([[0, 0, 3],\n",
       "       [1, 1, 2]])"
      ]
     },
     "execution_count": 159,
     "metadata": {},
     "output_type": "execute_result"
    }
   ],
   "source": [
    "arr = np.array(quick_mat.collect())\n",
    "arr"
   ]
  },
  {
   "cell_type": "code",
   "execution_count": 149,
   "metadata": {},
   "outputs": [
    {
     "data": {
      "text/plain": [
       "array([[0, 3],\n",
       "       [1, 2]])"
      ]
     },
     "execution_count": 149,
     "metadata": {},
     "output_type": "execute_result"
    }
   ],
   "source": [
    "arr[:,1:]"
   ]
  },
  {
   "cell_type": "code",
   "execution_count": 150,
   "metadata": {},
   "outputs": [
    {
     "data": {
      "text/plain": [
       "<2x2 sparse matrix of type '<class 'numpy.int64'>'\n",
       "\twith 3 stored elements in COOrdinate format>"
      ]
     },
     "execution_count": 150,
     "metadata": {},
     "output_type": "execute_result"
    }
   ],
   "source": [
    "sp.coo_matrix(arr[:,1:])"
   ]
  },
  {
   "cell_type": "code",
   "execution_count": 151,
   "metadata": {},
   "outputs": [
    {
     "name": "stdout",
     "output_type": "stream",
     "text": [
      "  (0, 1)\t3\n",
      "  (1, 0)\t1\n",
      "  (1, 1)\t2\n"
     ]
    }
   ],
   "source": [
    "print(sp.coo_matrix(arr[:,1:]))"
   ]
  },
  {
   "cell_type": "code",
   "execution_count": 135,
   "metadata": {},
   "outputs": [],
   "source": [
    "train_spark = spark.createDataFrame(train_data_all)\n",
    "val_spark = spark.createDataFrame(val_data_all)\n",
    "test_spark = spark.createDataFrame(test_data_all)"
   ]
  },
  {
   "cell_type": "code",
   "execution_count": 139,
   "metadata": {
    "scrolled": true
   },
   "outputs": [
    {
     "name": "stdout",
     "output_type": "stream",
     "text": [
      "+-------+-------+------+\n",
      "|user_id|book_id|rating|\n",
      "+-------+-------+------+\n",
      "| 431147| 414799|     5|\n",
      "| 431147| 147207|     3|\n",
      "| 431147|    943|     5|\n",
      "| 431147|    613|     5|\n",
      "| 431147|    944|     5|\n",
      "+-------+-------+------+\n",
      "only showing top 5 rows\n",
      "\n"
     ]
    }
   ],
   "source": [
    "train_spark.show(5)"
   ]
  },
  {
   "cell_type": "code",
   "execution_count": 155,
   "metadata": {},
   "outputs": [],
   "source": [
    "spark.conf.set('spark.sql.pivotMaxValues', u'537380')\n",
    "# we must set this or spark pivot will encounter the same problem as pandas pivot"
   ]
  },
  {
   "cell_type": "raw",
   "metadata": {},
   "source": [
    "train_mat = train_spark.groupby('user_id').pivot('book_id').agg(first(\"rating\")).na.fill(0)\n",
    "val_mat = val_spark.groupby('user_id').pivot('book_id').agg(first(\"rating\")).na.fill(0)\n",
    "test_mat = test__spark.groupby('user_id').pivot('book_id').agg(first(\"rating\")).na.fill(0)\n",
    "\n",
    "unfortunately, this cannot be done either.\n",
    "If the above had succesfully pivoted the data, the following code would have generated results for lighFM"
   ]
  },
  {
   "cell_type": "code",
   "execution_count": null,
   "metadata": {},
   "outputs": [],
   "source": [
    "train_arr = np.array(train_mat.collect())[:, 1:]\n",
    "val_arr = np.array(val_mat.collect())[:, 1:]\n",
    "test_arr = np.array(test_mat.collect())[:, 1:]"
   ]
  },
  {
   "cell_type": "code",
   "execution_count": null,
   "metadata": {
    "scrolled": true
   },
   "outputs": [],
   "source": [
    "train_coo = sp.coo_matrix(trian_arr)\n",
    "val_coo = sp.coo_matrix(val_arr)\n",
    "test_coo = sp.coo_matrix(test_arr)"
   ]
  },
  {
   "cell_type": "code",
   "execution_count": null,
   "metadata": {
    "scrolled": true
   },
   "outputs": [],
   "source": []
  },
  {
   "cell_type": "code",
   "execution_count": null,
   "metadata": {
    "scrolled": true
   },
   "outputs": [],
   "source": []
  },
  {
   "cell_type": "code",
   "execution_count": null,
   "metadata": {
    "scrolled": true
   },
   "outputs": [],
   "source": []
  },
  {
   "cell_type": "code",
   "execution_count": null,
   "metadata": {
    "scrolled": true
   },
   "outputs": [],
   "source": []
  },
  {
   "cell_type": "markdown",
   "metadata": {},
   "source": [
    "----------------\n",
    "# Using ALS.train"
   ]
  },
  {
   "cell_type": "code",
   "execution_count": 100,
   "metadata": {
    "scrolled": true
   },
   "outputs": [],
   "source": [
    "from pyspark.mllib.recommendation import ALS\n",
    "# this is a different ALS class than the above, and has different methods and fields"
   ]
  },
  {
   "cell_type": "markdown",
   "metadata": {},
   "source": [
    "## load data into spark dataframes"
   ]
  },
  {
   "cell_type": "code",
   "execution_count": 60,
   "metadata": {
    "scrolled": true
   },
   "outputs": [
    {
     "name": "stdout",
     "output_type": "stream",
     "text": [
      "+-----------+--------+\n",
      "|book_id_csv| book_id|\n",
      "+-----------+--------+\n",
      "|          0|34684622|\n",
      "|          1|34536488|\n",
      "|          2|34017076|\n",
      "+-----------+--------+\n",
      "only showing top 3 rows\n",
      "\n"
     ]
    }
   ],
   "source": [
    "books = spark.read.load('book_id_map.csv', format='csv', header=True, inferSchema=True)\n",
    "books.show(3)"
   ]
  },
  {
   "cell_type": "code",
   "execution_count": 58,
   "metadata": {
    "scrolled": true
   },
   "outputs": [
    {
     "name": "stdout",
     "output_type": "stream",
     "text": [
      "+---+-------+-------+-------+------+-----------+\n",
      "|_c0|user_id|book_id|is_read|rating|is_reviewed|\n",
      "+---+-------+-------+-------+------+-----------+\n",
      "|  0| 431147| 414799|      1|     5|          0|\n",
      "|  1| 431147| 147207|      1|     3|          0|\n",
      "|  2| 431147|    943|      1|     5|          0|\n",
      "+---+-------+-------+-------+------+-----------+\n",
      "only showing top 3 rows\n",
      "\n"
     ]
    }
   ],
   "source": [
    "train = spark.read.load('final_train.csv', format='csv', header=True, inferSchema=True)\n",
    "train.show(3)"
   ]
  },
  {
   "cell_type": "code",
   "execution_count": 76,
   "metadata": {
    "scrolled": true
   },
   "outputs": [
    {
     "data": {
      "text/plain": [
       "[(414799, 414799, 5.0), (147207, 147207, 3.0), (943, 943, 5.0)]"
      ]
     },
     "execution_count": 76,
     "metadata": {},
     "output_type": "execute_result"
    }
   ],
   "source": [
    "# load data\n",
    "train = sc.textFile('final_train.csv')\n",
    "# preprocess data -- only need [\"user_id\", \"book_id\", \"rating\"]\n",
    "header = train.take(1)[0]\n",
    "train_data = train \\\n",
    "    .filter(lambda line: line!=header) \\\n",
    "    .map(lambda line: line.split(\",\")) \\\n",
    "    .map(lambda tokens: (int(tokens[2]), int(tokens[2]), float(tokens[4]))).cache()\n",
    "    # since this is a text file, we no longer have a schema, \n",
    "    # and the position of these three values in the list need to be checked carefully\n",
    "    \n",
    "# check three rows\n",
    "train_data.take(3)"
   ]
  },
  {
   "cell_type": "code",
   "execution_count": 73,
   "metadata": {
    "scrolled": true
   },
   "outputs": [
    {
     "data": {
      "text/plain": [
       "final_train.csv MapPartitionsRDD[433] at textFile at NativeMethodAccessorImpl.java:0"
      ]
     },
     "execution_count": 73,
     "metadata": {},
     "output_type": "execute_result"
    }
   ],
   "source": [
    "train"
   ]
  },
  {
   "cell_type": "code",
   "execution_count": 31,
   "metadata": {
    "scrolled": true
   },
   "outputs": [
    {
     "data": {
      "text/plain": [
       "[(128759, 99863, 4.0), (128759, 669, 5.0), (128759, 75832, 5.0)]"
      ]
     },
     "execution_count": 31,
     "metadata": {},
     "output_type": "execute_result"
    }
   ],
   "source": [
    "# load data\n",
    "val = sc.textFile('final_val.csv')\n",
    "# preprocess data -- only need [\"user_id\", \"book_id\", \"rating\"]\n",
    "header = val.take(1)[0]\n",
    "val_data = val \\\n",
    "    .filter(lambda line: line!=header) \\\n",
    "    .map(lambda line: line.split(\",\")) \\\n",
    "    .map(lambda tokens: (int(tokens[1]), int(tokens[2]), float(tokens[4]))) \\\n",
    "    .cache()\n",
    "# check three rows\n",
    "val_data.take(3)"
   ]
  },
  {
   "cell_type": "code",
   "execution_count": 32,
   "metadata": {
    "scrolled": true
   },
   "outputs": [
    {
     "data": {
      "text/plain": [
       "[(75352, 1436, 0.0), (75352, 62771, 0.0), (75352, 7161, 4.0)]"
      ]
     },
     "execution_count": 32,
     "metadata": {},
     "output_type": "execute_result"
    }
   ],
   "source": [
    "# load data\n",
    "test = sc.textFile('final_test.csv')\n",
    "# preprocess data -- only need [\"user_id\", \"book_id\", \"rating\"]\n",
    "header = test.take(1)[0]\n",
    "test_data = test \\\n",
    "    .filter(lambda line: line!=header) \\\n",
    "    .map(lambda line: line.split(\",\")) \\\n",
    "    .map(lambda tokens: (int(tokens[1]), int(tokens[2]), float(tokens[4]))) \\\n",
    "    .cache()\n",
    "# check three rows\n",
    "test_data.take(3)"
   ]
  },
  {
   "cell_type": "markdown",
   "metadata": {},
   "source": [
    "## ALS single model fitting"
   ]
  },
  {
   "cell_type": "code",
   "execution_count": 36,
   "metadata": {
    "scrolled": true
   },
   "outputs": [],
   "source": [
    "model = ALS.train(\n",
    "                ratings=train_data,    # (userID, productID, rating) tuple\n",
    "                iterations=10,         # must be an integer\n",
    "                rank=10,               # must be an integer\n",
    "                lambda_=1.0,)          # regularization param, must be a float!\n",
    "                \n",
    "\n",
    "# make prediction\n",
    "valid_data = val_data.map(lambda p: (p[0], p[1]))"
   ]
  },
  {
   "cell_type": "code",
   "execution_count": 39,
   "metadata": {
    "scrolled": true
   },
   "outputs": [],
   "source": [
    "predictions = model.predictAll(valid_data).map(lambda r: ((r[0], r[1]), r[2]))"
   ]
  },
  {
   "cell_type": "code",
   "execution_count": 42,
   "metadata": {
    "scrolled": true
   },
   "outputs": [],
   "source": [
    "# get the rating result\n",
    "ratesAndPreds = val_data.map(lambda r: ((r[0], r[1]), r[2])).join(predictions)"
   ]
  },
  {
   "cell_type": "code",
   "execution_count": 45,
   "metadata": {
    "scrolled": true
   },
   "outputs": [
    {
     "name": "stdout",
     "output_type": "stream",
     "text": [
      "10 latent factors and regularization = 1.0: validation RMSE is 1.952944968930379\n"
     ]
    }
   ],
   "source": [
    "# get the RMSE\n",
    "MSE = ratesAndPreds.map(lambda r: (r[1][0] - r[1][1])**2).mean()\n",
    "error = math.sqrt(MSE)\n",
    "print('{} latent factors and regularization = {}: validation RMSE is {}'.format(10, 1.0, error))"
   ]
  },
  {
   "cell_type": "markdown",
   "metadata": {},
   "source": [
    "## ALS model deployment"
   ]
  },
  {
   "cell_type": "code",
   "execution_count": 46,
   "metadata": {
    "scrolled": true
   },
   "outputs": [
    {
     "name": "stdout",
     "output_type": "stream",
     "text": [
      "The out-of-sample RMSE of rating predictions is 1.9606\n"
     ]
    }
   ],
   "source": [
    "# make prediction using test data\n",
    "test_d = test_data.map(lambda p: (p[0], p[1]))\n",
    "predictions = model.predictAll(test_d).map(lambda r: ((r[0], r[1]), r[2]))\n",
    "# get the rating result\n",
    "ratesAndPreds = test_data.map(lambda r: ((r[0], r[1]), r[2])).join(predictions)\n",
    "# get the RMSE\n",
    "MSE = ratesAndPreds.map(lambda r: (r[1][0] - r[1][1])**2).mean()\n",
    "error = math.sqrt(MSE)\n",
    "print('The out-of-sample RMSE of rating predictions is', round(error, 4))"
   ]
  },
  {
   "cell_type": "code",
   "execution_count": 77,
   "metadata": {
    "scrolled": true
   },
   "outputs": [
    {
     "ename": "AttributeError",
     "evalue": "'MatrixFactorizationModel' object has no attribute 'recommendForAllUsers'",
     "output_type": "error",
     "traceback": [
      "\u001b[0;31m---------------------------------------------------------------------------\u001b[0m",
      "\u001b[0;31mAttributeError\u001b[0m                            Traceback (most recent call last)",
      "\u001b[0;32m<ipython-input-77-6f87c9894bc7>\u001b[0m in \u001b[0;36m<module>\u001b[0;34m\u001b[0m\n\u001b[0;32m----> 1\u001b[0;31m \u001b[0mmodel\u001b[0m\u001b[0;34m.\u001b[0m\u001b[0mrecommendForAllUsers\u001b[0m\u001b[0;34m(\u001b[0m\u001b[0;36m20\u001b[0m\u001b[0;34m)\u001b[0m\u001b[0;34m.\u001b[0m\u001b[0mshow\u001b[0m\u001b[0;34m(\u001b[0m\u001b[0;36m10\u001b[0m\u001b[0;34m)\u001b[0m\u001b[0;34m\u001b[0m\u001b[0;34m\u001b[0m\u001b[0m\n\u001b[0m",
      "\u001b[0;31mAttributeError\u001b[0m: 'MatrixFactorizationModel' object has no attribute 'recommendForAllUsers'"
     ]
    }
   ],
   "source": [
    "model.recommendForAllUsers(20).show(10)"
   ]
  },
  {
   "cell_type": "code",
   "execution_count": 66,
   "metadata": {
    "scrolled": true
   },
   "outputs": [],
   "source": [
    "# get top n bookId\n",
    "topn_rows = predictions.sortBy(lambda r: r[1], ascending=False).take(500)\n",
    "topn_ids = [r[0][0] for r in topn_rows]"
   ]
  },
  {
   "cell_type": "code",
   "execution_count": 67,
   "metadata": {
    "scrolled": false
   },
   "outputs": [
    {
     "data": {
      "text/plain": [
       "[356680,\n",
       " 424143,\n",
       " 140163,\n",
       " 424143,\n",
       " 424143,\n",
       " 424143,\n",
       " 160806,\n",
       " 4300,\n",
       " 212164,\n",
       " 424143,\n",
       " 235946,\n",
       " 178091,\n",
       " 140163,\n",
       " 406270,\n",
       " 627629,\n",
       " 424143,\n",
       " 201760,\n",
       " 262057,\n",
       " 356680,\n",
       " 424143,\n",
       " 685442,\n",
       " 212235,\n",
       " 4300,\n",
       " 160806,\n",
       " 178091,\n",
       " 5545,\n",
       " 411568,\n",
       " 438227,\n",
       " 438227,\n",
       " 67541,\n",
       " 212235,\n",
       " 212235,\n",
       " 212235,\n",
       " 212235,\n",
       " 4300,\n",
       " 411568,\n",
       " 200146,\n",
       " 212235,\n",
       " 272837,\n",
       " 219519,\n",
       " 426151,\n",
       " 212235,\n",
       " 200146,\n",
       " 273980,\n",
       " 212235,\n",
       " 159087,\n",
       " 516018,\n",
       " 159087,\n",
       " 68583,\n",
       " 159087,\n",
       " 394040,\n",
       " 178091,\n",
       " 140163,\n",
       " 5545,\n",
       " 34310,\n",
       " 140163,\n",
       " 424143,\n",
       " 411568,\n",
       " 164164,\n",
       " 68583,\n",
       " 68583,\n",
       " 194185,\n",
       " 424143,\n",
       " 424143,\n",
       " 645023,\n",
       " 436410,\n",
       " 212164,\n",
       " 58949,\n",
       " 607891,\n",
       " 40876,\n",
       " 178091,\n",
       " 178091,\n",
       " 178091,\n",
       " 349405,\n",
       " 68583,\n",
       " 169313,\n",
       " 15971,\n",
       " 333421,\n",
       " 402895,\n",
       " 436410,\n",
       " 388610,\n",
       " 15971,\n",
       " 159087,\n",
       " 27990,\n",
       " 40876,\n",
       " 160806,\n",
       " 212235,\n",
       " 27990,\n",
       " 356680,\n",
       " 200146,\n",
       " 164164,\n",
       " 419963,\n",
       " 349405,\n",
       " 424143,\n",
       " 424143,\n",
       " 231023,\n",
       " 682847,\n",
       " 402895,\n",
       " 419963,\n",
       " 424143,\n",
       " 434991,\n",
       " 434991,\n",
       " 679958,\n",
       " 212235,\n",
       " 234523,\n",
       " 234523,\n",
       " 338371,\n",
       " 649067,\n",
       " 40876,\n",
       " 40876,\n",
       " 40876,\n",
       " 368270,\n",
       " 411568,\n",
       " 682847,\n",
       " 424143,\n",
       " 324512,\n",
       " 159087,\n",
       " 190883,\n",
       " 747290,\n",
       " 516183,\n",
       " 212235,\n",
       " 231023,\n",
       " 5545,\n",
       " 273980,\n",
       " 219519,\n",
       " 200146,\n",
       " 159087,\n",
       " 200146,\n",
       " 58949,\n",
       " 212235,\n",
       " 394766,\n",
       " 235946,\n",
       " 784777,\n",
       " 624371,\n",
       " 159087,\n",
       " 395937,\n",
       " 48707,\n",
       " 219519,\n",
       " 448153,\n",
       " 203406,\n",
       " 212235,\n",
       " 188005,\n",
       " 611820,\n",
       " 479591,\n",
       " 426151,\n",
       " 48707,\n",
       " 424143,\n",
       " 349405,\n",
       " 159087,\n",
       " 512746,\n",
       " 512746,\n",
       " 512746,\n",
       " 752842,\n",
       " 333421,\n",
       " 394040,\n",
       " 24302,\n",
       " 619450,\n",
       " 329515,\n",
       " 384095,\n",
       " 159087,\n",
       " 349405,\n",
       " 627629,\n",
       " 344661,\n",
       " 762668,\n",
       " 7245,\n",
       " 38867,\n",
       " 479591,\n",
       " 76876,\n",
       " 428074,\n",
       " 628844,\n",
       " 76876,\n",
       " 178091,\n",
       " 48707,\n",
       " 48707,\n",
       " 629260,\n",
       " 512746,\n",
       " 762668,\n",
       " 424143,\n",
       " 424143,\n",
       " 200146,\n",
       " 200146,\n",
       " 200146,\n",
       " 200146,\n",
       " 200146,\n",
       " 344661,\n",
       " 424143,\n",
       " 624371,\n",
       " 201176,\n",
       " 135789,\n",
       " 414356,\n",
       " 48707,\n",
       " 203406,\n",
       " 34344,\n",
       " 27990,\n",
       " 227832,\n",
       " 159087,\n",
       " 48707,\n",
       " 610607,\n",
       " 424143,\n",
       " 245606,\n",
       " 214161,\n",
       " 135302,\n",
       " 762668,\n",
       " 479591,\n",
       " 4300,\n",
       " 200146,\n",
       " 200146,\n",
       " 424143,\n",
       " 231023,\n",
       " 356680,\n",
       " 219519,\n",
       " 624371,\n",
       " 202851,\n",
       " 127519,\n",
       " 212235,\n",
       " 624371,\n",
       " 127519,\n",
       " 127519,\n",
       " 230718,\n",
       " 871201,\n",
       " 762668,\n",
       " 7245,\n",
       " 750081,\n",
       " 528820,\n",
       " 190883,\n",
       " 4300,\n",
       " 231733,\n",
       " 588621,\n",
       " 624371,\n",
       " 188005,\n",
       " 4300,\n",
       " 212235,\n",
       " 230718,\n",
       " 230718,\n",
       " 424143,\n",
       " 149490,\n",
       " 273980,\n",
       " 127281,\n",
       " 178091,\n",
       " 212235,\n",
       " 611820,\n",
       " 349405,\n",
       " 34310,\n",
       " 12712,\n",
       " 190883,\n",
       " 424143,\n",
       " 717183,\n",
       " 4300,\n",
       " 127519,\n",
       " 424143,\n",
       " 212164,\n",
       " 98770,\n",
       " 245606,\n",
       " 5545,\n",
       " 5545,\n",
       " 4300,\n",
       " 44852,\n",
       " 12712,\n",
       " 139087,\n",
       " 436410,\n",
       " 140163,\n",
       " 343441,\n",
       " 343441,\n",
       " 212235,\n",
       " 344661,\n",
       " 414356,\n",
       " 212235,\n",
       " 219519,\n",
       " 200146,\n",
       " 159087,\n",
       " 190883,\n",
       " 159087,\n",
       " 160806,\n",
       " 837049,\n",
       " 169313,\n",
       " 237562,\n",
       " 436410,\n",
       " 178091,\n",
       " 436410,\n",
       " 226513,\n",
       " 139087,\n",
       " 424143,\n",
       " 212164,\n",
       " 802197,\n",
       " 440323,\n",
       " 159793,\n",
       " 696669,\n",
       " 34310,\n",
       " 12712,\n",
       " 4300,\n",
       " 471127,\n",
       " 424143,\n",
       " 435903,\n",
       " 394766,\n",
       " 149490,\n",
       " 426151,\n",
       " 214161,\n",
       " 333393,\n",
       " 135302,\n",
       " 24302,\n",
       " 24302,\n",
       " 262057,\n",
       " 424143,\n",
       " 411568,\n",
       " 784777,\n",
       " 424143,\n",
       " 435903,\n",
       " 435903,\n",
       " 48707,\n",
       " 212235,\n",
       " 212235,\n",
       " 494446,\n",
       " 344661,\n",
       " 484195,\n",
       " 164164,\n",
       " 529848,\n",
       " 219519,\n",
       " 68583,\n",
       " 624371,\n",
       " 5545,\n",
       " 333393,\n",
       " 333393,\n",
       " 406270,\n",
       " 200706,\n",
       " 607314,\n",
       " 262057,\n",
       " 685442,\n",
       " 190883,\n",
       " 178091,\n",
       " 5545,\n",
       " 5545,\n",
       " 837049,\n",
       " 435903,\n",
       " 435903,\n",
       " 397889,\n",
       " 696669,\n",
       " 424143,\n",
       " 212235,\n",
       " 645023,\n",
       " 645023,\n",
       " 200706,\n",
       " 452148,\n",
       " 139087,\n",
       " 659659,\n",
       " 159087,\n",
       " 40876,\n",
       " 837185,\n",
       " 471695,\n",
       " 278303,\n",
       " 484195,\n",
       " 212235,\n",
       " 212235,\n",
       " 12712,\n",
       " 212235,\n",
       " 212235,\n",
       " 212235,\n",
       " 338371,\n",
       " 212235,\n",
       " 434991,\n",
       " 219519,\n",
       " 446714,\n",
       " 86185,\n",
       " 159087,\n",
       " 670598,\n",
       " 529848,\n",
       " 17013,\n",
       " 159087,\n",
       " 235946,\n",
       " 4300,\n",
       " 200146,\n",
       " 27990,\n",
       " 68583,\n",
       " 27990,\n",
       " 200146,\n",
       " 5545,\n",
       " 34344,\n",
       " 572792,\n",
       " 127281,\n",
       " 837049,\n",
       " 474061,\n",
       " 411568,\n",
       " 127519,\n",
       " 5545,\n",
       " 40876,\n",
       " 767103,\n",
       " 682847,\n",
       " 262057,\n",
       " 231023,\n",
       " 479591,\n",
       " 598696,\n",
       " 278303,\n",
       " 278303,\n",
       " 278303,\n",
       " 278303,\n",
       " 278303,\n",
       " 278303,\n",
       " 278303,\n",
       " 278303,\n",
       " 219519,\n",
       " 219519,\n",
       " 402895,\n",
       " 579321,\n",
       " 757650,\n",
       " 4300,\n",
       " 273980,\n",
       " 200706,\n",
       " 27990,\n",
       " 159087,\n",
       " 402895,\n",
       " 398692,\n",
       " 237562,\n",
       " 349405,\n",
       " 219519,\n",
       " 567705,\n",
       " 508826,\n",
       " 68583,\n",
       " 174023,\n",
       " 12712,\n",
       " 231023,\n",
       " 212235,\n",
       " 859511,\n",
       " 484195,\n",
       " 580835,\n",
       " 837185,\n",
       " 424143,\n",
       " 45132,\n",
       " 572792,\n",
       " 424143,\n",
       " 649067,\n",
       " 545921,\n",
       " 424143,\n",
       " 5545,\n",
       " 428074,\n",
       " 139087,\n",
       " 133561,\n",
       " 200706,\n",
       " 627629,\n",
       " 587162,\n",
       " 219519,\n",
       " 160806,\n",
       " 344366,\n",
       " 27990,\n",
       " 333393,\n",
       " 45132,\n",
       " 402895,\n",
       " 4300,\n",
       " 378407,\n",
       " 436410,\n",
       " 784777,\n",
       " 411142,\n",
       " 212235,\n",
       " 212235,\n",
       " 27990,\n",
       " 424143,\n",
       " 708701,\n",
       " 690202,\n",
       " 231023,\n",
       " 24302,\n",
       " 15971,\n",
       " 859511,\n",
       " 411142,\n",
       " 697152,\n",
       " 202680,\n",
       " 1829,\n",
       " 414356,\n",
       " 231023,\n",
       " 27990,\n",
       " 756572,\n",
       " 656552,\n",
       " 160806,\n",
       " 129055,\n",
       " 34310,\n",
       " 424143,\n",
       " 127519,\n",
       " 307031,\n",
       " 307031,\n",
       " 159087,\n",
       " 572792,\n",
       " 174023,\n",
       " 499705,\n",
       " 197613,\n",
       " 307031,\n",
       " 342255,\n",
       " 342255,\n",
       " 342255,\n",
       " 5544,\n",
       " 139087,\n",
       " 344661,\n",
       " 336356,\n",
       " 649067,\n",
       " 133561,\n",
       " 616113,\n",
       " 231733,\n",
       " 219519,\n",
       " 58949,\n",
       " 424143,\n",
       " 424143,\n",
       " 27990,\n",
       " 24302,\n",
       " 135302]"
      ]
     },
     "execution_count": 67,
     "metadata": {},
     "output_type": "execute_result"
    }
   ],
   "source": [
    "topn_ids"
   ]
  },
  {
   "cell_type": "code",
   "execution_count": 68,
   "metadata": {
    "scrolled": false
   },
   "outputs": [
    {
     "data": {
      "text/plain": [
       "[22673596,\n",
       " 16148391,\n",
       " 8042847,\n",
       " 305234,\n",
       " 13498709,\n",
       " 13542533,\n",
       " 18231432,\n",
       " 22428,\n",
       " 6692041,\n",
       " 35816,\n",
       " 210113,\n",
       " 12852710,\n",
       " 15847561,\n",
       " 13530973,\n",
       " 3073174,\n",
       " 536837,\n",
       " 443369,\n",
       " 7882883,\n",
       " 6377584,\n",
       " 27696,\n",
       " 3521419,\n",
       " 24915344,\n",
       " 74694,\n",
       " 121943,\n",
       " 570380,\n",
       " 15806971,\n",
       " 50682,\n",
       " 21853716,\n",
       " 16120812,\n",
       " 12515260,\n",
       " 41888,\n",
       " 11372834,\n",
       " 1070682,\n",
       " 19155023,\n",
       " 17609290,\n",
       " 12487451,\n",
       " 1616215,\n",
       " 1041254,\n",
       " 768045,\n",
       " 25081444,\n",
       " 107162,\n",
       " 30830499,\n",
       " 20938228,\n",
       " 1585889,\n",
       " 25473657,\n",
       " 12781787,\n",
       " 18250005,\n",
       " 13545218,\n",
       " 34341251,\n",
       " 25014876,\n",
       " 333463,\n",
       " 28766537,\n",
       " 7044136,\n",
       " 4054590,\n",
       " 1053305,\n",
       " 25417902,\n",
       " 8431115,\n",
       " 13609892,\n",
       " 17732128,\n",
       " 23747616,\n",
       " 16193959,\n",
       " 17611462,\n",
       " 17844496,\n",
       " 956677,\n",
       " 2687731,\n",
       " 12841070,\n",
       " 23493879,\n",
       " 18007504,\n",
       " 25595826,\n",
       " 324888,\n",
       " 970862,\n",
       " 2801767,\n",
       " 8117921,\n",
       " 24428239,\n",
       " 1007812,\n",
       " 13617778,\n",
       " 22731370,\n",
       " 372231,\n",
       " 925549,\n",
       " 17742187,\n",
       " 185675,\n",
       " 7867453,\n",
       " 31451137,\n",
       " 150581,\n",
       " 940562,\n",
       " 13402282,\n",
       " 3253601,\n",
       " 13074895,\n",
       " 14325855,\n",
       " 18360528,\n",
       " 5932254,\n",
       " 17980073,\n",
       " 21526392,\n",
       " 9752492,\n",
       " 26111713,\n",
       " 9822565,\n",
       " 18404017,\n",
       " 21104745,\n",
       " 9694295,\n",
       " 9476967,\n",
       " 16127387,\n",
       " 21964532,\n",
       " 27774689,\n",
       " 18246296,\n",
       " 27307142,\n",
       " 11922284,\n",
       " 3935486,\n",
       " 995666,\n",
       " 882677,\n",
       " 6644699,\n",
       " 1576570,\n",
       " 17855789,\n",
       " 27157558,\n",
       " 27425564,\n",
       " 125618,\n",
       " 325840,\n",
       " 15713777,\n",
       " 13552657,\n",
       " 27201262,\n",
       " 12896920,\n",
       " 27246773,\n",
       " 27825653,\n",
       " 23365349,\n",
       " 16071628,\n",
       " 20980624,\n",
       " 25649351,\n",
       " 13627010,\n",
       " 8148206,\n",
       " 25903308,\n",
       " 13624773,\n",
       " 7328319,\n",
       " 9657712,\n",
       " 7929117,\n",
       " 17925968,\n",
       " 1824292,\n",
       " 33817935,\n",
       " 3236725,\n",
       " 402325,\n",
       " 33151919,\n",
       " 13485635,\n",
       " 7945293,\n",
       " 6343166,\n",
       " 103295,\n",
       " 6349484,\n",
       " 2838973,\n",
       " 113057,\n",
       " 12771582,\n",
       " 30067587,\n",
       " 2899694,\n",
       " 1510535,\n",
       " 18780051,\n",
       " 513446,\n",
       " 979636,\n",
       " 35220326,\n",
       " 15767677,\n",
       " 22704079,\n",
       " 17853722,\n",
       " 13140899,\n",
       " 7508175,\n",
       " 2642748,\n",
       " 16111336,\n",
       " 28806974,\n",
       " 29992278]"
      ]
     },
     "execution_count": 68,
     "metadata": {},
     "output_type": "execute_result"
    }
   ],
   "source": [
    "books.filter(books.book_id_csv.isin(topn_ids)) \\\n",
    "                    .select('book_id') \\\n",
    "                    .rdd \\\n",
    "                    .map(lambda r: r[0]) \\\n",
    "                    .collect()"
   ]
  }
 ],
 "metadata": {
  "kernelspec": {
   "display_name": "Python 3",
   "language": "python",
   "name": "python3"
  },
  "language_info": {
   "codemirror_mode": {
    "name": "ipython",
    "version": 3
   },
   "file_extension": ".py",
   "mimetype": "text/x-python",
   "name": "python",
   "nbconvert_exporter": "python",
   "pygments_lexer": "ipython3",
   "version": "3.7.4"
  }
 },
 "nbformat": 4,
 "nbformat_minor": 2
}
